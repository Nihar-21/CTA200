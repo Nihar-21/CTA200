{
 "cells": [
  {
   "cell_type": "code",
   "execution_count": 1,
   "metadata": {},
   "outputs": [
    {
     "name": "stdout",
     "output_type": "stream",
     "text": [
      "simulation finished, {} planets remianing 0\n",
      "simulation finished, {} planets remianing 0\n",
      "simulation finished, {} planets remianing 0\n",
      "simulation finished, {} planets remianing 0\n",
      "simulation finished, {} planets remianing 2\n",
      "simulation finished, {} planets remianing 2\n",
      "simulation finished, {} planets remianing 2\n",
      "simulation finished, {} planets remianing 2\n",
      "[array([634.66518254, 634.66518254]), array([634.66518254, 634.66518254]), array([62831.8530718, 62831.8530718]), array([62831.8530718, 62831.8530718]), array([634.66518254, 634.66518254]), array([634.66518254, 634.66518254]), array([62831.8530718, 62831.8530718]), array([62831.8530718, 62831.8530718])]\n",
      "[[[[  634.66518254   634.66518254]\n",
      "   [62831.8530718  62831.8530718 ]]\n",
      "\n",
      "  [[  634.66518254   634.66518254]\n",
      "   [62831.8530718  62831.8530718 ]]]\n",
      "\n",
      "\n",
      " [[[  634.66518254   634.66518254]\n",
      "   [62831.8530718  62831.8530718 ]]\n",
      "\n",
      "  [[  634.66518254   634.66518254]\n",
      "   [62831.8530718  62831.8530718 ]]]]\n",
      "(2, 2, 2, 2)\n",
      "[  634.66518254   634.66518254 62831.8530718  62831.8530718\n",
      "   634.66518254   634.66518254 62831.8530718  62831.8530718 ]\n"
     ]
    },
    {
     "ename": "AttributeError",
     "evalue": "'numpy.ndarray' object has no attribute 'imshow'",
     "output_type": "error",
     "traceback": [
      "\u001b[0;31m---------------------------------------------------------------------------\u001b[0m",
      "\u001b[0;31mAttributeError\u001b[0m                            Traceback (most recent call last)",
      "\u001b[0;32m<ipython-input-1-f5d59b75ec5a>\u001b[0m in \u001b[0;36m<module>\u001b[0;34m()\u001b[0m\n\u001b[1;32m     41\u001b[0m \u001b[0;31m#     for i, mu in enumerate(mus):\u001b[0m\u001b[0;34m\u001b[0m\u001b[0;34m\u001b[0m\u001b[0m\n\u001b[1;32m     42\u001b[0m \u001b[0;31m#         for j, np in enumerate(Np):\u001b[0m\u001b[0;34m\u001b[0m\u001b[0;34m\u001b[0m\u001b[0m\n\u001b[0;32m---> 43\u001b[0;31m     \u001b[0mPlotting\u001b[0m\u001b[0;34m.\u001b[0m\u001b[0mPlotting\u001b[0m\u001b[0;34m(\u001b[0m\u001b[0mebs\u001b[0m\u001b[0;34m,\u001b[0m\u001b[0maps\u001b[0m\u001b[0;34m,\u001b[0m\u001b[0mNa\u001b[0m\u001b[0;34m,\u001b[0m\u001b[0mstime\u001b[0m\u001b[0;34m,\u001b[0m\u001b[0mmus\u001b[0m\u001b[0;34m,\u001b[0m\u001b[0mNp\u001b[0m\u001b[0;34m,\u001b[0m\u001b[0mNe\u001b[0m\u001b[0;34m,\u001b[0m\u001b[0mNmu\u001b[0m\u001b[0;34m)\u001b[0m\u001b[0;34m\u001b[0m\u001b[0m\n\u001b[0m\u001b[1;32m     44\u001b[0m \u001b[0;34m\u001b[0m\u001b[0m\n\u001b[1;32m     45\u001b[0m \u001b[0;31m#     for (i,j,k)in zip(mus,ebs,aps):\u001b[0m\u001b[0;34m\u001b[0m\u001b[0;34m\u001b[0m\u001b[0m\n",
      "\u001b[0;32m/cita/d/homes/home-2/namulla/A1/SURP INTRO PROJECT/myfunctions/Plotting.py\u001b[0m in \u001b[0;36mPlotting\u001b[0;34m(ebs, aps, Na, stime, mus, Np, Ne, Nmu)\u001b[0m\n\u001b[1;32m     24\u001b[0m         \u001b[0max\u001b[0m\u001b[0;34m[\u001b[0m\u001b[0mi\u001b[0m\u001b[0;34m]\u001b[0m\u001b[0;34m.\u001b[0m\u001b[0mset_xlabel\u001b[0m\u001b[0;34m(\u001b[0m\u001b[0;34m\"Binary Eccentricity $e_b$ \"\u001b[0m\u001b[0;34m)\u001b[0m\u001b[0;34m\u001b[0m\u001b[0m\n\u001b[1;32m     25\u001b[0m         \u001b[0max\u001b[0m\u001b[0;34m[\u001b[0m\u001b[0mi\u001b[0m\u001b[0;34m]\u001b[0m\u001b[0;34m.\u001b[0m\u001b[0mset_ylabel\u001b[0m\u001b[0;34m(\u001b[0m\u001b[0;34m\"Test particle semimajor axis $a_p$\"\u001b[0m\u001b[0;34m)\u001b[0m\u001b[0;34m\u001b[0m\u001b[0m\n\u001b[0;32m---> 26\u001b[0;31m         \u001b[0mim\u001b[0m \u001b[0;34m=\u001b[0m \u001b[0max\u001b[0m\u001b[0;34m.\u001b[0m\u001b[0mimshow\u001b[0m\u001b[0;34m(\u001b[0m\u001b[0mstime1\u001b[0m\u001b[0;34m,\u001b[0m \u001b[0maspect\u001b[0m\u001b[0;34m=\u001b[0m\u001b[0;34m'auto'\u001b[0m\u001b[0;34m,\u001b[0m \u001b[0morigin\u001b[0m\u001b[0;34m=\u001b[0m\u001b[0;34m\"lower\"\u001b[0m\u001b[0;34m,\u001b[0m \u001b[0minterpolation\u001b[0m\u001b[0;34m=\u001b[0m\u001b[0;34m'nearest'\u001b[0m\u001b[0;34m,\u001b[0m \u001b[0mcmap\u001b[0m\u001b[0;34m=\u001b[0m\u001b[0;34m\"viridis\"\u001b[0m\u001b[0;34m,\u001b[0m\u001b[0mextent\u001b[0m\u001b[0;34m=\u001b[0m\u001b[0mextent\u001b[0m\u001b[0;34m)\u001b[0m\u001b[0;34m\u001b[0m\u001b[0m\n\u001b[0m\u001b[1;32m     27\u001b[0m \u001b[0;34m\u001b[0m\u001b[0m\n\u001b[1;32m     28\u001b[0m \u001b[0;34m\u001b[0m\u001b[0m\n",
      "\u001b[0;31mAttributeError\u001b[0m: 'numpy.ndarray' object has no attribute 'imshow'"
     ]
    },
    {
     "data": {
      "image/png": "[encoded data removed]",
      "text/plain": [
       "<Figure size 504x360 with 2 Axes>"
      ]
     },
     "metadata": {
      "needs_background": "light"
     },
     "output_type": "display_data"
    }
   ],
   "source": [
    "import numpy as np\n",
    "from numpy import save\n",
    "import rebound\n",
    "import random\n",
    "from multiprocessing import Pool\n",
    "from myfunctions import Simulation\n",
    "from myfunctions import Plotting\n",
    "\n",
    "\n",
    "\n",
    "if __name__ == \"__main__\":\n",
    "    random.seed(1)\n",
    "    Ne, Na, Nmu, Np = 2,2,2,2 #Np = number of test particles per (eb,ap)tuple #*******\n",
    "    ab = 1\n",
    "    ebs = np.linspace(0.,0.7,Ne)\n",
    "    aps = ab*np.linspace(1.,5.,Na)\n",
    "    mus = np.linspace(0.1,0.9,Nmu) #******\n",
    " \n",
    "    params = [(eb,ap,Np,mu) for eb in ebs for ap in aps for mu in mus]\n",
    "    #print(params[0:0])\n",
    "\n",
    "\n",
    "    pool = rebound.InterruptiblePool(processes = 16) #add number of processors same as number requested on Sunnyvale\n",
    "\n",
    "    # TO TIME ONE CALL TO THE METHOD\n",
    "  \n",
    "    \n",
    "    stime = pool.map(Simulation.Simulation,params) #survival times\n",
    "    #Print(\"Time elapsed is {}\".format((end-start)/60.0))\n",
    "    \n",
    "    print(stime)\n",
    "#   print(stime.shape)\n",
    "    stime = np.array(stime).reshape([Nmu,Ne,Na,Np])\n",
    "    stime = np.nan_to_num(stime)\n",
    "    stime = stime.T\n",
    "    print(stime)\n",
    "    print(stime.shape)\n",
    "    \n",
    "    save('stime5.npy',stime)\n",
    "    \n",
    "#     for i, mu in enumerate(mus):\n",
    "#         for j, np in enumerate(Np):\n",
    "    Plotting.Plotting(ebs,aps,Na,stime,mus,Np,Ne,Nmu)\n",
    "    \n",
    "#     for (i,j,k)in zip(mus,ebs,aps):\n",
    "#         Plotting.Plotting(ebs,aps,Na,stime[i:j])\n",
    "#         #for j in range(0,Np):\n",
    "#         Plotting.Plotting(ebs,aps,Na,stime[i,:,:],mu)\n",
    "    %%time"
   ]
  }
 ],
 "metadata": {
  "kernelspec": {
   "display_name": "Python 3",
   "language": "python",
   "name": "python3"
  },
  "language_info": {
   "codemirror_mode": {
    "name": "ipython",
    "version": 3
   },
   "file_extension": ".py",
   "mimetype": "text/x-python",
   "name": "python",
   "nbconvert_exporter": "python",
   "pygments_lexer": "ipython3",
   "version": "3.8.2"
  }
 },
 "nbformat": 4,
 "nbformat_minor": 2
}
