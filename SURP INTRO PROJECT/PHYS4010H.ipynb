{
 "cells": [
  {
   "cell_type": "code",
   "execution_count": 1,
   "metadata": {
    "scrolled": false
   },
   "outputs": [
    {
     "name": "stdout",
     "output_type": "stream",
     "text": [
      "0.0\n",
      "0.175\n",
      "0.35\n",
      "0.5249999999999999\n",
      "0.7\n"
     ]
    }
   ],
   "source": [
    "import numpy as np\n",
    "import lifelines\n",
    "from myfunctions import PlottingLL  \n",
    "from myfunctions import CoxRegressionModel\n",
    "from myfunctions import SevenPlot\n",
    "\n",
    "\n",
    "stime = np.load('stime_eb25_ap25_Mu0.50_Np30_logsp1.npy')\n",
    "Ne, Na, Nm, Np = 25,25,1,30\n",
    "\n",
    "#binary semi-major axis\n",
    "ab = 1\n",
    "\n",
    "#binary eccentricity\n",
    "ebs = np.linspace(0.,0.7,Ne)\n",
    "#print(ebs)\n",
    "\n",
    "for x in range(0,25,6):\n",
    "    print(ebs[x])\n",
    "    \n",
    "    \n",
    "#test particle semi- major axis \n",
    "aps = ab*np.linspace(1.,5.,Na)\n",
    "\n"
   ]
  },
  {
   "cell_type": "code",
   "execution_count": 2,
   "metadata": {
    "scrolled": false
   },
   "outputs": [
    {
     "name": "stderr",
     "output_type": "stream",
     "text": [
      "/cita/modules/python/3.10.2/lib/python3.10/site-packages/lifelines/utils/__init__.py:1123: ConvergenceWarning: Column eb have very low variance when conditioned on death event present or not. This may harm convergence. This could be a form of 'complete separation'. For example, try the following code:\n",
      "\n",
      ">>> events = df['E'].astype(bool)\n",
      ">>> print(df.loc[events, 'eb'].var())\n",
      ">>> print(df.loc[~events, 'eb'].var())\n",
      "\n",
      "A very low variance means that the column eb completely determines whether a subject dies or not. See https://stats.stackexchange.com/questions/11109/how-to-deal-with-perfect-separation-in-logistic-regression.\n",
      "\n",
      "  warnings.warn(dedent(warning_text), ConvergenceWarning)\n",
      "/cita/modules/python/3.10.2/lib/python3.10/site-packages/lifelines/fitters/coxph_fitter.py:1601: ConvergenceWarning: Newton-Rhaphson failed to converge sufficiently. Please see the following tips in the lifelines documentation: https://lifelines.readthedocs.io/en/latest/Examples.html#problems-with-convergence-in-the-cox-proportional-hazard-model\n",
      "  warnings.warn(\n"
     ]
    },
    {
     "ename": "TypeError",
     "evalue": "CoxPHFitter.plot_partial_effects_on_outcome() missing 2 required positional arguments: 'covariates' and 'values'",
     "output_type": "error",
     "traceback": [
      "\u001b[0;31m---------------------------------------------------------------------------\u001b[0m",
      "\u001b[0;31mTypeError\u001b[0m                                 Traceback (most recent call last)",
      "Input \u001b[0;32mIn [2]\u001b[0m, in \u001b[0;36m<module>\u001b[0;34m\u001b[0m\n\u001b[1;32m     90\u001b[0m \u001b[38;5;28;01mfor\u001b[39;00m y \u001b[38;5;129;01min\u001b[39;00m \u001b[38;5;28mrange\u001b[39m(\u001b[38;5;241m3\u001b[39m,\u001b[38;5;241m10\u001b[39m,\u001b[38;5;241m1\u001b[39m):\n\u001b[1;32m     91\u001b[0m     i \u001b[38;5;241m=\u001b[39m \u001b[38;5;241m0\u001b[39m\n\u001b[0;32m---> 92\u001b[0m     \u001b[43mCoxRegressionModel\u001b[49m\u001b[38;5;241;43m.\u001b[39;49m\u001b[43mCoxRegressionModel\u001b[49m\u001b[43m(\u001b[49m\u001b[43mstimes\u001b[49m\u001b[43m,\u001b[49m\u001b[43mN\u001b[49m\u001b[43m,\u001b[49m\u001b[43map_s\u001b[49m\u001b[43m,\u001b[49m\u001b[43m \u001b[49m\u001b[43map_s2\u001b[49m\u001b[43m,\u001b[49m\u001b[43m \u001b[49m\u001b[43map_s3\u001b[49m\u001b[43m,\u001b[49m\u001b[43map_s5\u001b[49m\u001b[43m,\u001b[49m\u001b[43mebb_\u001b[49m\u001b[43m,\u001b[49m\u001b[43meap_\u001b[49m\u001b[43m,\u001b[49m\u001b[43maps2\u001b[49m\u001b[43m[\u001b[49m\u001b[43mi\u001b[49m\u001b[43m]\u001b[49m\u001b[43m,\u001b[49m\u001b[43maps3\u001b[49m\u001b[43m[\u001b[49m\u001b[43mi\u001b[49m\u001b[43m]\u001b[49m\u001b[43m,\u001b[49m\u001b[43maps5\u001b[49m\u001b[43m[\u001b[49m\u001b[43mi\u001b[49m\u001b[43m]\u001b[49m\u001b[43m,\u001b[49m\u001b[43meap_0\u001b[49m\u001b[43m[\u001b[49m\u001b[43mi\u001b[49m\u001b[43m]\u001b[49m\u001b[43m,\u001b[49m\u001b[43mnp\u001b[49m\u001b[38;5;241;43m.\u001b[39;49m\u001b[43mabs\u001b[49m\u001b[43m(\u001b[49m\u001b[43mebs\u001b[49m\u001b[43m[\u001b[49m\u001b[43mx\u001b[49m\u001b[43m]\u001b[49m\u001b[43m)\u001b[49m\u001b[43m,\u001b[49m\u001b[43maps\u001b[49m\u001b[43m[\u001b[49m\u001b[43my\u001b[49m\u001b[43m]\u001b[49m\u001b[43m,\u001b[49m\u001b[43mmu\u001b[49m\u001b[43m,\u001b[49m\u001b[43mstime\u001b[49m\u001b[43m[\u001b[49m\u001b[43mx\u001b[49m\u001b[43m,\u001b[49m\u001b[43my\u001b[49m\u001b[43m,\u001b[49m\u001b[43m:\u001b[49m\u001b[43m]\u001b[49m\u001b[43m,\u001b[49m\u001b[43mNp\u001b[49m\u001b[43m)\u001b[49m\n\u001b[1;32m     93\u001b[0m     i \u001b[38;5;241m=\u001b[39m i\u001b[38;5;241m+\u001b[39m\u001b[38;5;241m1\u001b[39m\n",
      "File \u001b[0;32m/cita/h/home-2/namulla/A1/SURP INTRO PROJECT/myfunctions/CoxRegressionModel.py:80\u001b[0m, in \u001b[0;36mCoxRegressionModel\u001b[0;34m(stimes, N, ap_s, ap_s2, ap_s3, ap_s5, ebb_, eap_, aps2_0, aps3_0, aps5_0, eap_0, ebs, aps_0, mu, stime, Np)\u001b[0m\n\u001b[1;32m     78\u001b[0m cph\u001b[38;5;241m.\u001b[39mfit(df,duration_col \u001b[38;5;241m=\u001b[39m \u001b[38;5;124m'\u001b[39m\u001b[38;5;124mT\u001b[39m\u001b[38;5;124m'\u001b[39m, event_col \u001b[38;5;241m=\u001b[39m \u001b[38;5;124m'\u001b[39m\u001b[38;5;124mE\u001b[39m\u001b[38;5;124m'\u001b[39m)\n\u001b[1;32m     79\u001b[0m \u001b[38;5;66;03m#cph.print_summary()\u001b[39;00m\n\u001b[0;32m---> 80\u001b[0m \u001b[43mcph\u001b[49m\u001b[38;5;241;43m.\u001b[39;49m\u001b[43mplot_partial_effects_on_outcome\u001b[49m\u001b[43m(\u001b[49m\u001b[43mplot_baseline\u001b[49m\u001b[43m \u001b[49m\u001b[38;5;241;43m=\u001b[39;49m\u001b[43m \u001b[49m\u001b[38;5;28;43;01mFalse\u001b[39;49;00m\u001b[43m,\u001b[49m\u001b[43m \u001b[49m\u001b[43max\u001b[49m\u001b[43m \u001b[49m\u001b[38;5;241;43m=\u001b[39;49m\u001b[43m \u001b[49m\u001b[43maxes\u001b[49m\u001b[43m,\u001b[49m\u001b[43m \u001b[49m\u001b[43mcmap\u001b[49m\u001b[43m \u001b[49m\u001b[38;5;241;43m=\u001b[39;49m\u001b[43m \u001b[49m\u001b[38;5;124;43m\"\u001b[39;49m\u001b[38;5;124;43mcoolwarm\u001b[39;49m\u001b[38;5;124;43m\"\u001b[39;49m\u001b[43m)\u001b[49m\n\u001b[1;32m     81\u001b[0m \u001b[38;5;66;03m#cph.plot_partial_effects_on_outcome(covariates = ['aps'], values = [round(aps_0,3)], plot_baseline = False, ax = axes, cmap = \"coolwarm\")\u001b[39;00m\n\u001b[1;32m     82\u001b[0m cph\u001b[38;5;241m.\u001b[39mbaseline_survival_\u001b[38;5;241m.\u001b[39mplot(ax\u001b[38;5;241m=\u001b[39maxes, ls \u001b[38;5;241m=\u001b[39m \u001b[38;5;124m\"\u001b[39m\u001b[38;5;124m:\u001b[39m\u001b[38;5;124m\"\u001b[39m, color\u001b[38;5;241m=\u001b[39m\u001b[38;5;124mf\u001b[39m\u001b[38;5;124m\"\u001b[39m\u001b[38;5;124mC\u001b[39m\u001b[38;5;132;01m{\u001b[39;00mi\u001b[38;5;132;01m}\u001b[39;00m\u001b[38;5;124m\"\u001b[39m)\n",
      "\u001b[0;31mTypeError\u001b[0m: CoxPHFitter.plot_partial_effects_on_outcome() missing 2 required positional arguments: 'covariates' and 'values'"
     ]
    },
    {
     "data": {
      "image/png": "[encoded data removed]",
      "text/plain": [
       "<Figure size 432x288 with 1 Axes>"
      ]
     },
     "metadata": {
      "needs_background": "light"
     },
     "output_type": "display_data"
    }
   ],
   "source": [
    "#Binary reduced mass\n",
    "mu = 0.500\n",
    "\n",
    "#1050 values \n",
    "ap_s = []\n",
    "ap_s2 = []\n",
    "ap_s3 = []\n",
    "ap_s5 = []\n",
    "stimes = []\n",
    "eap_ = []\n",
    "ebb_ = []\n",
    "\n",
    "# aps2 = []\n",
    "# aps3 = []\n",
    "# aps5 = []\n",
    "# eap_0 = []\n",
    "\n",
    "\n",
    "#for x in range(3,10,1):\n",
    "for x in range(0,25,6):\n",
    "    for y in range(3,10,1):\n",
    "\n",
    "        stimes.append(stime[x,y,:])\n",
    "        n = 30\n",
    "\n",
    "        app = [aps[y]]*n\n",
    "        ap_s.append(app)\n",
    "\n",
    "        app2 = [aps[y]**2]*n\n",
    "        ap_s2.append(app2)\n",
    "        #aps2.append([aps[y]**2])\n",
    "\n",
    "\n",
    "        app3 = [aps[y]**3]*n\n",
    "        ap_s3.append(app3)\n",
    "        #aps3.append([aps[y]**3])\n",
    "\n",
    "\n",
    "        app5 = [aps[y]**5]*n\n",
    "        ap_s5.append(app5)\n",
    "        #aps5.append([aps[y]**5])\n",
    "\n",
    "        eap = [np.exp([aps[y]])]*n\n",
    "        eap_.append(eap)\n",
    "        #eap_0.append(np.exp([aps[y]]))\n",
    "        \n",
    "    N = 210\n",
    "    ebb = [ebs[x]]*N\n",
    "    ebb_.append(ebb)\n",
    "\n",
    "        #PlottingLL.PlottingLL(np.abs(ebs[0]),aps[x],mu,stime[0,x,:],Np)\n",
    "        #print(aps[x],stime[0,x,:])\n",
    "    \n",
    "\n",
    "\n",
    "#1050 values   \n",
    "stimes = list(np.concatenate(stimes).flat)\n",
    "#print(len(stimes))\n",
    "ap_s = list(np.concatenate(ap_s).flat)\n",
    "#print(ap_s)\n",
    "ap_s2 = list(np.concatenate(ap_s2).flat)\n",
    "#print(ap_s2)\n",
    "ap_s3 = list(np.concatenate(ap_s3).flat)\n",
    "#print(ap_s3)\n",
    "ap_s5 = list(np.concatenate(ap_s5).flat)\n",
    "#print(ap_s5)\n",
    "eap_ = list(np.concatenate(eap_).flat)\n",
    "#print(eap_)\n",
    "ebb_ = list(np.concatenate(ebb_).flat)\n",
    "#print(ebb_)\n",
    "\n",
    "\n",
    "# aps2 = list(np.concatenate(aps2).flat)\n",
    "# aps3 = list(np.concatenate(aps3).flat)\n",
    "# aps5 = list(np.concatenate(aps5).flat)\n",
    "# eap_0 = list(np.concatenate(eap_0).flat)\n",
    "\n",
    "\n",
    "#N = 210\n",
    "N = 1050\n",
    "\n",
    "\n",
    "for x in range(0,25,6):\n",
    "    for y in range(3,10,1):\n",
    "        i = 0\n",
    "        CoxRegressionModel.CoxRegressionModel(stimes,N,ap_s, ap_s2, ap_s3,ap_s5,ebb_,eap_,np.abs(ebs[x]),aps[y],mu,stime[x,y,:],Np)\n",
    "        i = i+1\n",
    "\n",
    "\n",
    "#CoxRegressionModel.CoxRegressionModel(stimes,N,ap_s, ap_s2, ap_s3,ap_s5,ebb_,eap_,aps2,aps3,aps5,eap_0,np.abs(ebs[0]),aps[3],mu,stime[0,3,:],Np)\n",
    "\n",
    "\n",
    "    \n",
    "    \n",
    "#CoxRegressionModel.CoxRegressionModel(stimes,N,ap_s,np.abs(ebs),aps,mu,stime,Np)\n",
    "#CoxRegressionModel.CoxRegressionModel(stimes,N,ap_s)\n",
    "#SevenPlot.SevenPlot(stime,Np,aps)\n"
   ]
  },
  {
   "cell_type": "code",
   "execution_count": null,
   "metadata": {},
   "outputs": [],
   "source": []
  }
 ],
 "metadata": {
  "kernelspec": {
   "display_name": "Python 3 (ipykernel)",
   "language": "python",
   "name": "python3"
  },
  "language_info": {
   "codemirror_mode": {
    "name": "ipython",
    "version": 3
   },
   "file_extension": ".py",
   "mimetype": "text/x-python",
   "name": "python",
   "nbconvert_exporter": "python",
   "pygments_lexer": "ipython3",
   "version": "3.10.2"
  }
 },
 "nbformat": 4,
 "nbformat_minor": 2
}
