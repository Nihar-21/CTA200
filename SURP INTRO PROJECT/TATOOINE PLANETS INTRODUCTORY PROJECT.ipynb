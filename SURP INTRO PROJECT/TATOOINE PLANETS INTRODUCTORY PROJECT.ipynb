{
 "cells": [
  {
   "cell_type": "markdown",
   "metadata": {},
   "source": [
    "# Introduction to Rebound Question 2/3"
   ]
  },
  {
   "cell_type": "code",
   "execution_count": null,
   "metadata": {},
   "outputs": [],
   "source": [
    "import numpy as np\n",
    "import rebound\n",
    "import random\n",
    "import timeit \n",
    "\n",
    "a_b, e_b = 1.,0.5\n",
    "a_p, e_p = 4.,0.2    # a_p = 3 \n",
    "mu = 0.5\n"
   ]
  },
  {
   "cell_type": "code",
   "execution_count": null,
   "metadata": {},
   "outputs": [],
   "source": [
    "\n",
    "def setupSimulation(ab,eb,ap,ep,mu):\n",
    "    sim = rebound.Simulation() #sim = rebound.Simulation()\n",
    "    \n",
    "    a_b,e_b = ab,eb\n",
    "    m1 = 1.\n",
    "    \n",
    "    sim.add(m=m1, hash = \"Star1\") \n",
    "    \n",
    "    m2 = (m1*mu)/(1-mu)\n",
    "    inc_b = random.random()*np.pi\n",
    "    Omega_b = random.random()*2*np.pi\n",
    "    f_b=np.random.rand()*2.*np.pi\n",
    "    sim.add(m =m2, a= a_b, e=e_b, inc =inc_b,Omega=Omega_b,f=f_b, hash = \"Star2\") \n",
    "    \n",
    "    a_p,e_p = ap,ep\n",
    "    inc_p = random.random()*np.pi\n",
    "    Omega_p = random.random()*2*np.pi\n",
    "    f_p=np.random.rand()*2.*np.pi\n",
    "    sim.add(m=0.,a=a_p,e=e_p,inc=inc_p,Omega=Omega_p, f=f_p, hash = \"Planet1\")\n",
    "    \n",
    "    sim.move_to_com()\n",
    "    return sim\n"
   ]
  },
  {
   "cell_type": "code",
   "execution_count": null,
   "metadata": {},
   "outputs": [],
   "source": [
    "# import time\n",
    "# import itertools\n",
    "\n",
    "# start = time.time()\n",
    "# num = 1\n",
    "# for _ in itertools.repeat(None,num):\n",
    "#     sim = setupSimulation(a_b,e_b,a_p,e_p,mu)\n",
    "# end = time.time()\n",
    "\n",
    "# print(\"Time elapsed:\",end-start)\n",
    "# sim.status()"
   ]
  },
  {
   "cell_type": "code",
   "execution_count": null,
   "metadata": {},
   "outputs": [],
   "source": [
    "sim = setupSimulation(a_b,e_b,a_p,e_p,mu)\n",
    "sim.exit_max_distance = 1000*a_b\n",
    "\n",
    "Torb = 2.*np.pi\n",
    "Noutputs = 1000\n",
    "Norb_max = 1e4 #maximum number of orbital periods that will be used\n",
    "Tmin = Torb \n",
    "Tmax = 30*Torb\n",
    "\n",
    "times = np.linspace(Tmin, Tmax, Noutputs)\n",
    "xS1,yS1 = np.zeros(Noutputs), np.zeros(Noutputs)\n",
    "xS2,yS2 = np.zeros(Noutputs), np.zeros(Noutputs)\n",
    "xP1,yP1 = np.zeros(Noutputs), np.zeros(Noutputs)\n"
   ]
  },
  {
   "cell_type": "code",
   "execution_count": null,
   "metadata": {},
   "outputs": [],
   "source": [
    "%matplotlib inline\n",
    "import matplotlib.pyplot as plt\n",
    "for i,time in enumerate(times):\n",
    "    try:\n",
    "        sim.integrate(time)  \n",
    "        print(error)\n",
    "        for j in range(sim.N):\n",
    "            p = sim.particles[j]\n",
    "            d2 = p.x**2 + p.y**2 + p.z**2\n",
    "            if d2>sim.exit_max_distance**2:\n",
    "                sim.exit(1) # cache index rather than remove here since our loop would go beyond end of particles array\n",
    "    xS1[i] = sim.particles[\"Star1\"].x\n",
    "    yS1[i] = sim.particles[\"Star1\"].y\n",
    "    xS2[i] = sim.particles[\"Star2\"].x\n",
    "    yS2[i] = sim.particles[\"Star2\"].y\n",
    "    xP1[i] = sim.particles[\"Planet1\"].x\n",
    "    yP1[i] = sim.particles[\"Planet1\"].y\n",
    "\n",
    "fig = plt.figure(figsize=(6,6), dpi= 100, facecolor='w', edgecolor='k')\n",
    "ax = plt.subplot(121)\n",
    "ax.set_xlim([-5,5])\n",
    "ax.set_ylim([-5,5])\n",
    "\n",
    "\n",
    "plt.plot(xS1,yS1, label = 'Star 1')\n",
    "plt.plot(xS2,yS2, label = 'Star 2')\n",
    "plt.plot(xP1,yP1, label = 'Test Particle 1 (planet)')\n",
    "plt.xlabel(\"x\")\n",
    "plt.ylabel(\"y\")\n",
    "plt.title(\"Binary System Position Plot\")\n",
    "plt.legend()\n",
    "plt.savefig('Sec2_Bin_Sim.png') \n",
    "#plt.savefig('S2_changea.png')\n"
   ]
  },
  {
   "cell_type": "code",
   "execution_count": null,
   "metadata": {
    "scrolled": true
   },
   "outputs": [],
   "source": [
    "%matplotlib inline\n",
    "fig,ax = rebound.OrbitPlot(sim, color = True)\n",
    "ax.set_title(\" Binary System Position Plot(Using Orbitplot function) \")\n",
    "\n",
    "plt.savefig('Sec2_OrbPlt.png')\n",
    "#plt.savefig('OrbPlt_changea.png')\n"
   ]
  },
  {
   "cell_type": "markdown",
   "metadata": {},
   "source": [
    "# CLASSIC RESULTS"
   ]
  },
  {
   "cell_type": "code",
   "execution_count": null,
   "metadata": {},
   "outputs": [],
   "source": [
    "import numpy as np\n",
    "import rebound\n",
    "import random\n",
    "from multiprocessing import Pool "
   ]
  },
  {
   "cell_type": "code",
   "execution_count": null,
   "metadata": {},
   "outputs": [],
   "source": [
    "# Calculates survival times for each tuple \n",
    "def Simulation(par):\n",
    "    sim = rebound.Simulation()\n",
    "    e_b,a_p = par #par[0],par[1]\n",
    "    a_b = 1.\n",
    "    m1 =1.\n",
    "   \n",
    "    sim.add(m=m1, hash = \"Star1\") \n",
    "    \n",
    "    mu = 0.5\n",
    "    m2 = (m1*mu)/(1-mu)\n",
    "    inc_b = random.random()*np.pi\n",
    "    Omega_b = random.random()*2*np.pi\n",
    "    f_b=np.random.rand()*2.*np.pi\n",
    "    sim.add(m =m2, a= a_b, e=e_b, inc =inc_b,Omega=Omega_b,f=f_b,  hash = \"Star2\")\n",
    "    \n",
    "    e_p = 0\n",
    "    inc_p = random.random()*np.pi\n",
    "    Omega_p = random.random()*2*np.pi\n",
    "    f_p=np.random.rand()*2.*np.pi\n",
    "    sim.add(m=0.,a=a_p,e=e_p,inc=inc_p,Omega=Omega_p, f=f_p, hash = \"Planet1\")\n",
    "    \n",
    "    #im.move_to_com()\n",
    "    #sim.exit_max_distance = 1000*a_b\n",
    "    max_dist = 100*a_b\n",
    "\n",
    "    Torb = 2.*np.pi\n",
    "    Noutputs = 100\n",
    "    Norb_max = 1e4 \n",
    "    Tmin = 0.\n",
    "    Tmax = Norb_max*Torb\n",
    "    times = np.linspace(Tmin, Tmax, Noutputs)\n",
    "    #tmax = np.zeros(1)\n",
    "    tmax_arr = []\n",
    "    for i,time in enumerate(times):\n",
    "        sim.integrate(time)\n",
    "        p = sim.particles[2]\n",
    "        d2 = p.x**2 + p.y**2 + p.z**2\n",
    "        if(d2>max_dist**2):\n",
    "            tmax_arr.append(time)\n",
    "            #tmax = times[i]\n",
    "            #print(tmax)\n",
    "        \n",
    "    return tmax_arr[0] #tmax    \n",
    "    \n",
    "        \n"
   ]
  },
  {
   "cell_type": "code",
   "execution_count": null,
   "metadata": {},
   "outputs": [],
   "source": [
    "#Pool function to send an array of tuples (e_b and a_p values to Simulation() function)\n",
    "random.seed(1)\n",
    "N = 10\n",
    "ab = 1\n",
    "ebs = np.linspace(0.,0.7,N)\n",
    "aps = ab*np.linspace(1.,5.,N)\n",
    "params = [(eb,ap) for eb in ebs for ap in aps]\n",
    "\n",
    "pool = rebound.InterruptiblePool()\n",
    "\n",
    "# TO TIME ONE CALL TO THE \n",
    "#import time\n",
    "#import itertools\n",
    "#start = time.time()\n",
    "#num = 1\n",
    "#for _ in itertools.repeat(None,num):\n",
    "#    stime = pool.map(Simulation,params) #survival times\n",
    "#end = time.time()\n",
    "#print(\"On a system with 2 cores and 4 logical processors, time elapsed is\",end-start)\n",
    "\n",
    "stime = pool.map(Simulation,params) #survival times\n",
    "stime = np.array(stime).reshape(N,N)\n",
    "stime = np.nan_to_num(stime)\n",
    "\n",
    "#Colorplot of survival times\n",
    "%matplotlib inline\n",
    "import matplotlib.pyplot as plt\n",
    "from matplotlib import ticker\n",
    "from matplotlib.colors import LogNorm\n",
    "import matplotlib\n",
    "\n",
    "t,ax = plt.subplots(1,1,figsize=(7,5))\n",
    "extent=[ebs.min(), ebs.max(), aps.min(), aps.max()]\n",
    "\n",
    "ax.set_xlim(extent[0], extent[1])\n",
    "ax.set_ylim(extent[2], extent[3])\n",
    "ax.set_xlabel(\"Binary Eccentricity $e_b$ \")\n",
    "ax.set_ylabel(\"Test particle semimajor axis $a_p$\")\n",
    "im = ax.imshow(stime, aspect='auto', origin=\"lower\", interpolation='nearest', cmap=\"RdYlGn_r\", extent=extent)\n",
    "\n",
    "cb = plt.colorbar(im, ax=ax)\n",
    "cb.solids.set_rasterized(True)\n",
    "cb.set_label(\"Particle Survival Times\")\n"
   ]
  },
  {
   "cell_type": "code",
   "execution_count": null,
   "metadata": {},
   "outputs": [],
   "source": [
    "# e_b vs. a_b plot \n",
    "#import numpy as np\n",
    "ebs = np.linspace(0.,0.7,N)\n",
    "ab_s = np.zeros(N)\n",
    "for i,eb in enumerate(ebs):\n",
    "    ab_s[i] = 2.278 + 3.824*eb - 1.71*(eb**2)\n",
    "#from matplotlib import pyplot as plt    \n",
    "plt.plot(ebs,ab_s, marker = \"^\",markersize =5 )\n",
    "plt.xlabel('$e_b$')\n",
    "plt.ylabel('$a_b(a_c$)')\n",
    "plt.title('Critical semimajor axis $a_c$ as a function of eccentricity $e_b$')\n",
    "plt.savefig(\"ac_vs_eb.pdf\")"
   ]
  },
  {
   "cell_type": "markdown",
   "metadata": {},
   "source": []
  }
 ],
 "metadata": {
  "kernelspec": {
   "display_name": "Python 3",
   "language": "python",
   "name": "python3"
  },
  "language_info": {
   "codemirror_mode": {
    "name": "ipython",
    "version": 3
   },
   "file_extension": ".py",
   "mimetype": "text/x-python",
   "name": "python",
   "nbconvert_exporter": "python",
   "pygments_lexer": "ipython3",
   "version": "3.7.0"
  }
 },
 "nbformat": 4,
 "nbformat_minor": 2
}
