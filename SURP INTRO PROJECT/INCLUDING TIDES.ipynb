{
 "cells": [
  {
   "cell_type": "markdown",
   "metadata": {},
   "source": [
    "# INCLUDING TIDES\n"
   ]
  },
  {
   "cell_type": "code",
   "execution_count": null,
   "metadata": {},
   "outputs": [],
   "source": [
    "# SECTION 2 --> using for CODING for SECTION 4 --> Unedited\n",
    "\n",
    "import numpy as np\n",
    "import rebound\n",
    "import reboundx\n",
    " \n",
    "a_b= 1.\n",
    "mu = 0.5\n",
    "#tau = 0.5\n",
    "#tau = [0.1, 0.2, 0.3,0.5]\n",
    "k2 = 0.5\n",
    "R1,R2 = 0.1*(a_b), 0.1*(a_b)\n",
    "\n"
   ]
  },
  {
   "cell_type": "code",
   "execution_count": null,
   "metadata": {},
   "outputs": [],
   "source": [
    "def setupSimulation(ab,mu):\n",
    "    sim = rebound.Simulation() \n",
    "    sim.units= ('yr', 'AU','Msun')\n",
    "    eb = 0.5\n",
    "    \n",
    "    m1 = 1.\n",
    "    sim.add(m=m1, hash = \"Star1\") \n",
    "\n",
    "    m2 = (m1*mu)/(1-mu)\n",
    "    sim.add(m =m2, e = eb, a= ab,  hash = \"Star2\") \n",
    "    \n",
    "    sim.move_to_com()\n",
    "    rebx = reboundx.Extras(sim)\n",
    "    tides = rebx.load_force(\"tides_constant_time_lag\")\n",
    "    rebx.add_force(tides)\n",
    "    \n",
    "    return sim,rebx,tides\n"
   ]
  },
  {
   "cell_type": "code",
   "execution_count": null,
   "metadata": {},
   "outputs": [],
   "source": [
    "sim, rebx, tides = setupSimulation(a_b,mu)\n",
    "\n",
    "ps = sim.particles\n",
    "ps[0].r = R1\n",
    "ps[1].r = R2\n",
    "ps[0].params[\"tctl_k1\"] = k2/2.0\n",
    "ps[0].params[\"tctl_tau\"] = 1e-2\n",
    "ps[0].params[\"Omega\"] = 1e-5\n",
    "\n",
    "\n",
    "Noutputs = 10\n",
    "t_max = 1e4\n",
    "times = np.linspace(0, t_max, Noutputs)\n",
    "pomega = np.zeros(Noutputs) # angle from x-axis to pericenter\n",
    "eccen = np.zeros(Noutputs) # binary eccentricity\n",
    "ab = np.zeros(Noutputs)  # binary semi major axis\n",
    "\n",
    "#Calculating theoretical semi major axis (Predicted values)\n",
    "q = (ps[1].m/ps[0].m)\n",
    "print(q)\n",
    "T = ps[0].r**3/sim.G/ps[0].m/ps[0].params[\"tctl_tau\"]\n",
    "#T = ((ps[0].r)**3)/(sim.G*ps[0].m*ps[0].params[\"tctl_tau\"])\n",
    "print(T)\n",
    "apred = (ps[0].r)*((ps[1].a/ps[0].r)**8 - 48.*ps[0].params[\"tctl_k1\"]*q*(1+q)*times/T)**(0.125)\n",
    "#apred = (ps[0].r)*(((ps[1].a)/(ps[0].r))**8 - (48.*ps[0].params[\"tctl_k1\"]*q*(1+q)*times)/T)**(0.125)\n",
    "print(apred)\n",
    "\n"
   ]
  },
  {
   "cell_type": "code",
   "execution_count": null,
   "metadata": {},
   "outputs": [],
   "source": [
    "%%time\n",
    "for i,time in enumerate(times):\n",
    "    sim.integrate(time)\n",
    "    #pomega[i] = ps[1].pomega\n",
    "    eccen[i] = ps[1].e\n",
    "    ab[i] = ps[1].a\n",
    "\n",
    "print(ab)"
   ]
  },
  {
   "cell_type": "code",
   "execution_count": null,
   "metadata": {},
   "outputs": [],
   "source": [
    "%matplotlib inline\n",
    "import matplotlib.pyplot as plt\n",
    "\n",
    "fig,ax = plt.subplots(nrows = 3,figsize=(15,15), dpi= 100)\n",
    "# ax[0].plot(times,pomega,'.')\n",
    "# ax[0].set_ylabel(\"Pericenter\", fontsize=10)\n",
    "#ax[0].set_xscale('log')\n",
    "\n",
    "ax[1].plot(times, eccen, '.')\n",
    "#ax[1].set_xscale('log')\n",
    "#ax[1].set_yscale('log')\n",
    "ax[1].set_ylabel('Secondary Star Eccentricity', fontsize=10)\n",
    "\n",
    "ax[2].plot(times, ab, '.', label = 'ab')\n",
    "ax[2].plot(times, apred, '--', label = 'predicted ab')\n",
    "#ax[2].set_xscale('log')\n",
    "ax[2].set_xlabel('Time', fontsize=24)\n",
    "ax[2].set_ylabel('Secondary Star Semi-Major Axis', fontsize=10)\n",
    "ax[2].legend()\n",
    "\n",
    "#plt.savefig(\"Pericenter_Eccen_SemiMajAx_time.png\")\n",
    "\n",
    "\n"
   ]
  },
  {
   "cell_type": "markdown",
   "metadata": {},
   "source": [
    "# TAU FOR LOOP"
   ]
  },
  {
   "cell_type": "code",
   "execution_count": null,
   "metadata": {
    "scrolled": false
   },
   "outputs": [],
   "source": [
    "# %matplotlib inline\n",
    "# import matplotlib.pyplot as plt\n",
    "# for j,t in enumerate(tau):\n",
    "#     sim, rebx, tides = setupSimulation(a_b,mu,R1,R2)\n",
    "\n",
    "#     ps = sim.particles\n",
    "#     ps[0].params[\"tctl_k1\"] = k2/2.0\n",
    "#     ps[0].params[\"tctl_tau\"] = t\n",
    "\n",
    "#     Noutputs = 1000\n",
    "#     t_max = 1e4\n",
    "#     times = np.linspace(0, t_max, Noutputs)\n",
    "#     pomega = np.zeros(Noutputs) # angle from x-axis to pericenter\n",
    "#     eccen = np.zeros(Noutputs) # binary eccentricity\n",
    "#     ab = np.zeros(Noutputs)  # binary semi major axis\n",
    "    \n",
    "#     #Calculating theoretical semi major axis (Predicted values)\n",
    "#     q = (ps[1].m/ps[0].m)\n",
    "#     T = (ps[0].r**3)/(sim.G/ps[0].m/ps[0].params[\"tctl_tau\"])\n",
    "#     apred = ps[0].r*((ps[1].a/ps[0].r)**8 - (48.*ps[0].params[\"tctl_k1\"]*q*(1+q)*times)/T)**(1./8)\n",
    "    \n",
    "#     for i,time in enumerate(times):\n",
    "#         sim.integrate(time)\n",
    "#         pomega[i] = ps[1].pomega\n",
    "#         eccen[i] = ps[1].e\n",
    "#         ab[i] = ps[1].a\n",
    "    \n",
    "#     fig,ax = plt.subplots(nrows = 3,figsize=(12,11), dpi= 100)\n",
    "    \n",
    "#     ax[0].title.set_text('For Tau = {0}'.format(t))\n",
    "#     ax[0].plot(times,pomega,'.')\n",
    "#     ax[0].set_ylabel(\"Pericenter\", fontsize=10)\n",
    "#     #ax[0].set_xscale('log')\n",
    "    \n",
    "#     ax[1].plot(times, eccen, '.')\n",
    "#     #ax[1].set_xscale('log')\n",
    "#     #ax[1].set_yscale('log')\n",
    "#     ax[1].set_ylabel('Secondary Star Eccentricity', fontsize=10)\n",
    "    \n",
    "#     ax[2].plot(times, ab, '.')\n",
    "#     ax[2].plot(times, apred, '--')\n",
    "#     #ax[2].set_xscale('log')\n",
    "#     ax[2].set_xlabel('Time', fontsize=24)\n",
    "#     ax[2].set_ylabel('Secondary Star Semi-Major Axis', fontsize=10)\n",
    "#     ax[2].legend(fontsize = 10, loc = 'best')\n",
    "    \n",
    "# plt.savefig('For_dif_Tau_val.png')\n",
    "# plt.show\n",
    "    \n",
    "\n",
    "    \n",
    "\n",
    "    \n",
    "    \n",
    "\n"
   ]
  }
 ],
 "metadata": {
  "kernelspec": {
   "display_name": "Python 3",
   "language": "python",
   "name": "python3"
  },
  "language_info": {
   "codemirror_mode": {
    "name": "ipython",
    "version": 3
   },
   "file_extension": ".py",
   "mimetype": "text/x-python",
   "name": "python",
   "nbconvert_exporter": "python",
   "pygments_lexer": "ipython3",
   "version": "3.7.0"
  }
 },
 "nbformat": 4,
 "nbformat_minor": 2
}
