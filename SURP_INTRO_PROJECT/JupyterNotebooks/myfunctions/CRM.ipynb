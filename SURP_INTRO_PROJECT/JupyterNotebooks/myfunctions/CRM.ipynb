{
 "cells": [
  {
   "cell_type": "code",
   "execution_count": 1,
   "id": "19597aeb",
   "metadata": {},
   "outputs": [
    {
     "ename": "ModuleNotFoundError",
     "evalue": "No module named 'myfunctions'",
     "output_type": "error",
     "traceback": [
      "\u001b[0;31m---------------------------------------------------------------------------\u001b[0m",
      "\u001b[0;31mModuleNotFoundError\u001b[0m                       Traceback (most recent call last)",
      "Input \u001b[0;32mIn [1]\u001b[0m, in \u001b[0;36m<module>\u001b[0;34m\u001b[0m\n\u001b[1;32m      2\u001b[0m \u001b[38;5;28;01mimport\u001b[39;00m \u001b[38;5;21;01mmatplotlib\u001b[39;00m\u001b[38;5;21;01m.\u001b[39;00m\u001b[38;5;21;01mpyplot\u001b[39;00m \u001b[38;5;28;01mas\u001b[39;00m \u001b[38;5;21;01mplt\u001b[39;00m \n\u001b[1;32m      3\u001b[0m \u001b[38;5;28;01mimport\u001b[39;00m \u001b[38;5;21;01mlifelines\u001b[39;00m\n\u001b[0;32m----> 4\u001b[0m \u001b[38;5;28;01mfrom\u001b[39;00m \u001b[38;5;21;01mmyfunctions\u001b[39;00m \u001b[38;5;28;01mimport\u001b[39;00m PlottingLL  \n\u001b[1;32m      5\u001b[0m \u001b[38;5;28;01mfrom\u001b[39;00m \u001b[38;5;21;01mmyfunctions\u001b[39;00m \u001b[38;5;28;01mimport\u001b[39;00m CureModelLL\n\u001b[1;32m      6\u001b[0m \u001b[38;5;28;01mfrom\u001b[39;00m \u001b[38;5;21;01mmyfunctions\u001b[39;00m \u001b[38;5;28;01mimport\u001b[39;00m SevenPlot\n",
      "\u001b[0;31mModuleNotFoundError\u001b[0m: No module named 'myfunctions'"
     ]
    }
   ],
   "source": [
    "import numpy as np\n",
    "import matplotlib.pyplot as plt \n",
    "import lifelines\n",
    "from myfunctions import PlottingLL  \n",
    "from myfunctions import CureModelLL\n",
    "from myfunctions import SevenPlot\n",
    "\n",
    "\n",
    "stime = np.load('stime_eb25_ap25_Mu0.50_Np30_logsp1.npy')\n",
    "Ne, Na, Nm, Np = 25,25,1,30\n",
    "\n",
    "#binary semi-major axis\n",
    "ab = 1\n",
    "\n",
    "#binary eccentricity\n",
    "ebs = np.linspace(0.,0.7,Ne)\n",
    "#print(ebs)\n",
    "\n",
    "    \n",
    "#test particle semi- major axis \n",
    "aps = ab*np.linspace(1.,5.,Na)\n",
    "\n",
    "\n",
    "# for x in range(0,25,6):\n",
    "#     print(ebs[x])\n",
    "    \n",
    "for y in range(0,19,3):\n",
    "    print(aps[y])\n",
    "    \n",
    "#Binary reduced mass\n",
    "mu = 0.500\n",
    "\n",
    "\n",
    "\n",
    "# for y in range(0,19,1):\n",
    "#     stimes.append(stime[0,y,:])\n",
    "#     n = 30\n",
    "    \n",
    "#     app = [aps[y]]*n\n",
    "#     ap_s.append(app)\n",
    "    \n",
    "# stimes = list(np.concatenate(stimes).flat)\n",
    "# ap_s = list(np.concatenate(ap_s).flat)\n",
    "\n",
    "\n",
    "for y in range(0,19,1):\n",
    "    CureModelLL.CureModelLL(np.abs(ebs[0]),aps[y],mu,stime[0,y,:],Np)\n",
    "\n",
    "    \n",
    "\n",
    "    "
   ]
  }
 ],
 "metadata": {
  "kernelspec": {
   "display_name": "Python 3 (ipykernel)",
   "language": "python",
   "name": "python3"
  },
  "language_info": {
   "codemirror_mode": {
    "name": "ipython",
    "version": 3
   },
   "file_extension": ".py",
   "mimetype": "text/x-python",
   "name": "python",
   "nbconvert_exporter": "python",
   "pygments_lexer": "ipython3",
   "version": "3.10.2"
  }
 },
 "nbformat": 4,
 "nbformat_minor": 5
}
