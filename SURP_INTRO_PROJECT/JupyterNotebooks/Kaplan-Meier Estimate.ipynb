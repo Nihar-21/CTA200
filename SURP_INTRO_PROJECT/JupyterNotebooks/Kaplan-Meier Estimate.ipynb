{
 "cells": [
  {
   "cell_type": "code",
   "execution_count": 1,
   "id": "b4b9300a",
   "metadata": {
    "scrolled": false
   },
   "outputs": [
    {
     "name": "stdout",
     "output_type": "stream",
     "text": [
      "*****************************\n",
      "              T  cnt  E  ni   di      S(t)       Var      Err+\n",
      "0      1.000000    0  0  30  0.0  1.000000  0.000000  0.000000\n",
      "1     62.831853    4  1  30  4.0  0.866667  0.003852  0.121644\n",
      "2     67.372537    1  1  26  1.0  0.833333  0.004630  0.133361\n",
      "3     83.060012    2  1  25  2.0  0.766667  0.005963  0.151352\n",
      "4     89.062528    1  1  23  1.0  0.733333  0.006519  0.158245\n",
      "5    102.400265    2  1  22  2.0  0.666667  0.007407  0.168690\n",
      "6    109.800448    1  1  20  1.0  0.633333  0.007741  0.172444\n",
      "7    126.243833    1  1  19  1.0  0.600000  0.008000  0.175308\n",
      "8    271.984093    1  1  18  1.0  0.566667  0.008185  0.177325\n",
      "9  62831.853072   17  0  17  0.0  0.566667  0.008185  0.177325\n",
      "[0 1 1 1 1 1 1 1 1 0]\n"
     ]
    },
    {
     "data": {
      "image/png": "[encoded data removed]",
      "text/plain": [
       "<Figure size 864x288 with 2 Axes>"
      ]
     },
     "metadata": {
      "needs_background": "light"
     },
     "output_type": "display_data"
    },
    {
     "name": "stdout",
     "output_type": "stream",
     "text": [
      "30 10\n",
      "p = [0.0001]\n"
     ]
    }
   ],
   "source": [
    "import numpy as np\n",
    "import matplotlib.pyplot as plt \n",
    "import pandas as pd\n",
    "from myfunctions import KaplanMeierEstimate as KME\n",
    "\n",
    "stime_mu_0_5 = np.load('stime_eb25_ap25_Mu0.50_Np30_logsp1.npy')\n",
    "stime_mu_0_3 = np.load('stime_eb25_ap25_Mu0.30_Np30_logsp1.npy')\n",
    "stime_mu_0_1 = np.load('stime_eb25_ap25_Mu0.10_Np30_logsp1.npy')\n",
    "\n",
    "stime = stime_mu_0_5\n",
    "\n",
    "mu = 0.5\n",
    "Ne, Na, Nm, Np = 25,25,1,30\n",
    "ab = 1\n",
    "ebs = np.linspace(0.,0.7,Ne)\n",
    "aps = ab*np.linspace(1.,5.,Na)\n",
    "\n",
    "len_eb = []\n",
    "start_eb = 0\n",
    "end_eb = 1\n",
    "inc_eb =  1\n",
    "\n",
    "for x in range(start_eb,end_eb,inc_eb):    \n",
    "    len_eb.append(ebs[x])\n",
    "# print(\"len of ebs = {}\".format(len(len_eb)))\n",
    "\n",
    "len_ap = []\n",
    "start_ap = 6\n",
    "end_ap = 7\n",
    "inc_ap = 1\n",
    "\n",
    "for y in range(start_ap,end_ap,inc_ap):    \n",
    "    len_ap.append(aps[y])\n",
    "\n",
    "\n",
    "\n",
    "for x in range(start_eb,end_eb,inc_eb):\n",
    "    for y in range(start_ap,end_ap,inc_ap):\n",
    "        KME.KaplanMeierEst(np.abs(ebs[x]),aps[y],mu,stime[x,y,:],Np)\n"
   ]
  },
  {
   "cell_type": "code",
   "execution_count": 2,
   "id": "6b59f5de",
   "metadata": {},
   "outputs": [
    {
     "name": "stdout",
     "output_type": "stream",
     "text": [
      "7 [0.027269048776453836, 33.35649113714295, 66.68571322550946, 100.01493531387597, 400.0435392835431, 700.0721432532102, 1000.1007472228774]\n",
      "7 [1.0, 1.0, 1.0, 0.66, 0.66, 0.66, 0.33]\n"
     ]
    },
    {
     "data": {
      "image/png": "[encoded data removed]",
      "text/plain": [
       "<Figure size 432x288 with 1 Axes>"
      ]
     },
     "metadata": {
      "needs_background": "light"
     },
     "output_type": "display_data"
    }
   ],
   "source": [
    "ti = [0,100,1000]\n",
    "S = [1,0.66,0.33]\n",
    "error = np.random.normal(0.1, 0.02, size=len(ti))\n",
    "ti += np.random.normal(0, 0.1, size= len(ti))\n",
    "\n",
    "\n",
    "Inter_ti_num = 2*(len(ti)) + len(ti)\n",
    "Inter_ti = np.zeros(Inter_ti_num)\n",
    "Inter_S = np.zeros(Inter_ti_num)\n",
    "\n",
    "j = 0\n",
    "for i in range(len(ti)-1):\n",
    "    Inter_ti[j:j+4] = np.linspace(ti[i],ti[i+1],4)\n",
    "    j = j+3\n",
    "    \n",
    "k = 0  \n",
    "for i in range(len(ti)):\n",
    "    Inter_S[k:k+3] = S[i]\n",
    "    k = k+3\n",
    "\n",
    "Inter_ti = Inter_ti.tolist()\n",
    "Inter_S = Inter_S.tolist()\n",
    "      \n",
    "del Inter_ti[len(ti)*2+1:len(Inter_ti)]\n",
    "del Inter_S[len(S)*2+1:len(Inter_S)]\n",
    "\n",
    "print(len(Inter_ti),Inter_ti)\n",
    "print(len(Inter_S),Inter_S)\n",
    "plt.plot(Inter_ti, Inter_S)\n",
    "plt.fill_between(ti, S-error, S+error,  facecolor='#7EFF99')\n",
    "plt.show()"
   ]
  },
  {
   "cell_type": "code",
   "execution_count": 3,
   "id": "826b8e2e",
   "metadata": {},
   "outputs": [],
   "source": [
    "# ti = [0,100,1000]\n",
    "# S = [1,0.66,0.33]\n",
    "\n",
    "# Inter_ti_num = 4*(len(ti))\n",
    "# Inter_ti_num \n",
    "# Inter_ti = np.zeros(Inter_ti_num)\n",
    "# Inter_S = np.zeros(Inter_ti_num)\n",
    "\n",
    "# j = 0\n",
    "# for i in range(len(ti)-1):\n",
    "#     Inter_ti[j:j+1] = \n",
    "#     Inter_ti[j:j+4] = np.linspace(ti[i],ti[i+1],4)\n",
    "#     j = j+3\n",
    "    \n",
    "# k = 0  \n",
    "# for i in range(len(ti)):\n",
    "#     Inter_S[k:k+3] = S[i]\n",
    "#     k = k+3\n",
    "\n",
    "# Inter_ti = Inter_ti.tolist()\n",
    "# Inter_S = Inter_S.tolist()\n",
    "      \n",
    "# del Inter_ti[len(ti)*2+1:len(Inter_ti)]\n",
    "# del Inter_S[len(S)*2+1:len(Inter_S)]\n",
    "\n",
    "# print(len(Inter_ti),Inter_ti)\n",
    "# print(len(Inter_S),Inter_S)\n",
    "# plt.plot(Inter_ti, Inter_S)"
   ]
  },
  {
   "cell_type": "code",
   "execution_count": 4,
   "id": "ce9f72b9",
   "metadata": {},
   "outputs": [
    {
     "name": "stdout",
     "output_type": "stream",
     "text": [
      "[0, 0, 0, 1.9, 1.1, 2, 3, 4, 5, 5, 5.5, 5, 5, 6, 7, 8, 8, 9, 9, 9]\n",
      "[0.  1.1 1.9 2.  3.  4.  5.  5.5 6.  7.  8.  9. ] [ 0  4  3  5  6  7  8 10 13 14 15 17] [3 1 1 1 1 1 4 1 1 1 2 3]\n",
      "12 12 12\n"
     ]
    }
   ],
   "source": [
    "arr = [0,0,0,1.9,1.1,2,3,4,5,5,5.5,5,5,6,7,8,8,9,9,9]\n",
    "num1 = []\n",
    "num2 = []\n",
    "for i in range(len(arr)):\n",
    "    num1.append(arr.count(arr[i]))\n",
    "    num2.append(np.where(arr))\n",
    "\n",
    "print(arr)\n",
    "ARRAY = np.unique(arr, return_index=True, return_inverse=False, return_counts= True, axis=None) \n",
    "print(ARRAY[0], ARRAY[1], ARRAY[2])\n",
    "print(len(ARRAY[0]), len(ARRAY[1]),len(ARRAY[2]))\n",
    "\n",
    "\n",
    "# for i in range(len(arr)):    \n",
    "#     print(np.where(arr != arr[+1], arr[i], 0))\n",
    "\n",
    "# new_arr_val = []\n",
    "# new_arr_num = []\n",
    "    \n",
    "# for i in range(len(arr)):\n",
    "#     if arr[i] = arr[i+1]\n",
    "#     new_arr_num.appen(0+)\n",
    "    \n",
    "# np.where()\n",
    "# arr.sort()\n",
    "# print(arr)\n",
    "# Arr = np.bincount(arr)\n",
    "# print(Arr)\n",
    "\n"
   ]
  },
  {
   "cell_type": "code",
   "execution_count": null,
   "id": "d799a11b",
   "metadata": {},
   "outputs": [],
   "source": []
  },
  {
   "cell_type": "code",
   "execution_count": null,
   "id": "f816b8fb",
   "metadata": {},
   "outputs": [],
   "source": []
  },
  {
   "cell_type": "code",
   "execution_count": null,
   "id": "2d62b675",
   "metadata": {},
   "outputs": [],
   "source": []
  }
 ],
 "metadata": {
  "kernelspec": {
   "display_name": "Python 3 (ipykernel)",
   "language": "python",
   "name": "python3"
  },
  "language_info": {
   "codemirror_mode": {
    "name": "ipython",
    "version": 3
   },
   "file_extension": ".py",
   "mimetype": "text/x-python",
   "name": "python",
   "nbconvert_exporter": "python",
   "pygments_lexer": "ipython3",
   "version": "3.10.2"
  }
 },
 "nbformat": 4,
 "nbformat_minor": 5
}
