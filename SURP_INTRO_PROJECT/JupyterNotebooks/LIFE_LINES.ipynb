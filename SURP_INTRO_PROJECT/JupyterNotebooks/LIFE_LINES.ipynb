{
 "cells": [
  {
   "cell_type": "code",
   "execution_count": null,
   "id": "76b2b6ac",
   "metadata": {
    "scrolled": false
   },
   "outputs": [],
   "source": [
    "import numpy as np\n",
    "from numpy import save\n",
    "import rebound\n",
    "import random\n",
    "from multiprocessing import Pool\n",
    "from myfunctions import SimulationLL as simL\n",
    "\n",
    "\n",
    "def HW_crit(e,m):\n",
    "    # eq 3. from H&W(1999)\n",
    "    # e,m = eb, mu\n",
    "    a_crit = 1.6 + 5.1*e - 2.22*e**2 + 4.12*m - 4.27*e*m - 5.09*m**2 + 4.61*e**2*m**2\n",
    "    return a_crit\n",
    "\n",
    "\n",
    "if __name__ == \"__main__\":\n",
    "    random.seed(1)\n",
    "    Na1, Na2 = 30, 10\n",
    "    Ne, Na,Nmu,Np = 1,Na1+(Na2*2)-2,1,30 #Np = number of test particles per (eb,ap)tuple \n",
    "#     Ne,Na, Nmu, Np =  1,10,1,10\n",
    "    #Na = 50\n",
    "    ab = 1\n",
    "    ebs = np.array([0])\n",
    "\n",
    "#     ebs = np.linspace(0.,0.9,Ne) #changed from 0.7 to 0.9 (07/28/22)\n",
    "    aps = ab*np.linspace(1.,5.,Na)\n",
    "    mus = np.array([0.5])\n",
    "\n",
    "\n",
    " \n",
    "    params = [(eb,ap,mu,Np) for eb in ebs for ap in aps for mu in mus]\n",
    "#     print(params)\n",
    "    \n",
    "    pool = rebound.InterruptiblePool(processes = 16) #add number of processors same as number requested on Sunnyvale  \n",
    "\n",
    "    import time\n",
    "    import itertools\n",
    "    start = time.time()\n",
    "    num = 1\n",
    "    for _ in itertools.repeat(None,num):\n",
    "        stime = pool.map(simL.SimulationLL,params) #survival times\n",
    "    end = time.time()\n",
    "    print(\"Time elapsed in minutes is {}\".format((end-start)/60.0))\n",
    "    \n",
    "    \n",
    "    stime = np.array(stime).reshape([Ne,Na,Nmu,Np])\n",
    "    stime = np.nan_to_num(stime)\n",
    "    \n",
    "    print(stime)\n",
    "    print(stime.shape)"
   ]
  },
  {
   "cell_type": "code",
   "execution_count": null,
   "id": "39ffaf5a",
   "metadata": {},
   "outputs": [],
   "source": []
  }
 ],
 "metadata": {
  "kernelspec": {
   "display_name": "Python 3 (ipykernel)",
   "language": "python",
   "name": "python3"
  },
  "language_info": {
   "codemirror_mode": {
    "name": "ipython",
    "version": 3
   },
   "file_extension": ".py",
   "mimetype": "text/x-python",
   "name": "python",
   "nbconvert_exporter": "python",
   "pygments_lexer": "ipython3",
   "version": "3.10.2"
  }
 },
 "nbformat": 4,
 "nbformat_minor": 5
}
