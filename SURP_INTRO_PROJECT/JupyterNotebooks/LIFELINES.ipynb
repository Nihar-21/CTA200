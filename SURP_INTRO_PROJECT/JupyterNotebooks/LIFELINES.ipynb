{
 "cells": [
  {
   "cell_type": "code",
   "execution_count": null,
   "metadata": {
    "scrolled": false
   },
   "outputs": [
    {
     "name": "stdout",
     "output_type": "stream",
     "text": [
      "[(0, 1.0, 0.5, 10), (0, 2.333333333333333, 0.5, 10), (0, 3.6666666666666665, 0.5, 10), (0, 5.0, 0.5, 10)]\n"
     ]
    }
   ],
   "source": [
    "import numpy as np\n",
    "from numpy import save\n",
    "import rebound\n",
    "import random\n",
    "from multiprocessing import Pool\n",
    "from myfunctions import SimulationLL as simL\n",
    "\n",
    "\n",
    "def HW_crit(e,m):\n",
    "    # eq 3. from H&W(1999)\n",
    "    # e,m = eb, mu\n",
    "    a_crit = 1.6 + 5.1*e - 2.22*e**2 + 4.12*m - 4.27*e*m - 5.09*m**2 + 4.61*e**2*m**2\n",
    "    return a_crit\n",
    "\n",
    "if __name__ == \"__main__\":\n",
    "    random.seed(1)\n",
    "    \n",
    "    #25,25,1,30\n",
    "#     Na1, Na2 = 2, 2\n",
    "#     Ne, Na,Nmu,Np = 1,Na2+(Na2*2)-2,1,2 #Np = number of test particles per (eb,ap)tuple \n",
    "    Ne,Na, Nmu, Np =  1,4,1,10\n",
    "    #Na = 50\n",
    "    ab = 1\n",
    "    ebs = np.array([0])\n",
    "\n",
    "#     ebs = np.linspace(0.,0.9,Ne) #changed from 0.7 to 0.9 (07/28/22)\n",
    "    aps = ab*np.linspace(1.,5.,Na)\n",
    "    mus = np.array([0.5])\n",
    "\n",
    "\n",
    " \n",
    "    params = [(eb,ap,mu,Np) for eb in ebs for ap in aps for mu in mus]\n",
    "#     params = []\n",
    "    \n",
    "#     for i,e in enumerate(ebs):\n",
    "#         for j,mu in enumerate(mus):\n",
    "#             ac = HW_crit(e,mu)\n",
    "#             upper, lower = ac*1.15, ac*0.75\n",
    "#             av = np.append(np.linspace(1.,lower, Na2)[:-1],np.linspace(lower,upper,Na1))\n",
    "#             av = np.append(av, np.linspace(upper, 5.,Na2)[1:])\n",
    "#             for a in av:\n",
    "#                 params.append((e,a,mu,Np))\n",
    "                \n",
    "                \n",
    "    print(params)            \n",
    "#     np.save('param_vals.npy',params)\n",
    "#     nproc = 16 # set to (total = nodes*ppn)\n",
    "    pool = rebound.InterruptiblePool(processes = 16) #add number of processors same as number requested on Sunnyvale  \n",
    "    \n",
    "    import time\n",
    "    import itertools\n",
    "    start = time.time()\n",
    "    num = 1\n",
    "    for _ in itertools.repeat(None,num):\n",
    "        stime = pool.map(simL.SimulationLL,params) #survival times\n",
    "    end = time.time()\n",
    "    print(\"Time elapsed in minutes is {}\".format((end-start)/60.0))\n",
    "    \n",
    "    #print(stime)\n",
    "    #print(stime.shape)\n",
    "#     save('stime_eb25_ap25_Mu0.5_Np30_logsp0.npy',stime)\n",
    "\n",
    "    stime = np.array(stime).reshape([Ne,Na,Nmu,Np])\n",
    "    stime = np.nan_to_num(stime)\n",
    "    #stime = stime.T\n",
    "    print(stime)\n",
    "    print(stime.shape)\n",
    "    \n",
    "#     save('stime_eb25_ap25_Mu0.5_Np30_logsp1.npy',stime)\n",
    "#     save('STIME_PRACTICE_maxdist_20**2_(1,50,1,30).npy',stime)\n",
    "    \n",
    "\n",
    "            \n",
    "            \n",
    "            \n",
    "            \n",
    "            \n",
    "        \n"
   ]
  },
  {
   "cell_type": "code",
   "execution_count": 1,
   "metadata": {
    "scrolled": false
   },
   "outputs": [
    {
     "name": "stdout",
     "output_type": "stream",
     "text": [
      "ERROR! Session/line number was not unique in database. History logging moved to new session 2592\n"
     ]
    }
   ],
   "source": [
    "# from myfunctions import Plotting0\n",
    "\n",
    "# from myfunctions import PlottingLL\n",
    "# for i,eb in enumerate(ebs):\n",
    "#     for j,ap in enumerate(aps):\n",
    "#         for k,mu in enumerate(mus):\n",
    "#             print(stime[i,j,k,:])\n",
    "#             PlottingLL.PlottingLL(e  b, ap, mu,stime[i,j,k,:],Np) \n",
    "            \n",
    "# for i,mu in enumerate(mus):\n",
    "#     for j in range(0,Np):      \n",
    "#         Plotting0.Plotting0(ebs,aps,Na, Ne,stime[:,:,i,j].T,mu) "
   ]
  },
  {
   "cell_type": "code",
   "execution_count": null,
   "metadata": {},
   "outputs": [],
   "source": []
  }
 ],
 "metadata": {
  "kernelspec": {
   "display_name": "Python 3 (ipykernel)",
   "language": "python",
   "name": "python3"
  },
  "language_info": {
   "codemirror_mode": {
    "name": "ipython",
    "version": 3
   },
   "file_extension": ".py",
   "mimetype": "text/x-python",
   "name": "python",
   "nbconvert_exporter": "python",
   "pygments_lexer": "ipython3",
   "version": "3.10.2"
  }
 },
 "nbformat": 4,
 "nbformat_minor": 4
}
