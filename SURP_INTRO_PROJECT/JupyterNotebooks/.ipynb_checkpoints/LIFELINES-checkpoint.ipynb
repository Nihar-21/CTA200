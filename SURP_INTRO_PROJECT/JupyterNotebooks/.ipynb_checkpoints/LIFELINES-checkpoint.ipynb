{
 "cells": [
  {
   "cell_type": "code",
   "execution_count": 1,
   "metadata": {
    "scrolled": false
   },
   "outputs": [],
   "source": [
    "import numpy as np\n",
    "from numpy import save\n",
    "import rebound\n",
    "import random\n",
    "from multiprocessing import Pool\n",
    "from myfunctions import SimulationLL as simL\n",
    "import matplotlib.pyplot as plt\n",
    "from myfunctions import Plotting0\n",
    "\n",
    "\n",
    "\n",
    "\n",
    "def HW_crit(e,m):\n",
    "    # eq 3. from H&W(1999)\n",
    "    # e,m = eb, mu\n",
    "    a_crit = 1.6 + 5.1*e - 2.22*e**2 + 4.12*m - 4.27*e*m - 5.09*m**2 + 4.61*e**2*m**2\n",
    "    return a_crit\n",
    "\n",
    "if __name__ == \"__main__\":\n",
    "    random.seed(1)\n",
    "    \n",
    "    #50,48,1,30\n",
    "    Na1, Na2 = 30, 10\n",
    "    Ne, Na,Nmu,Np = 50,Na1+(Na2*2)-2,1,30 #Np = number of test particles per (eb,ap)tuple \n",
    "#     Ne,Na, Nmu, Np =  1,2,1,2\n",
    "    #Na = 50\n",
    "    ab = 1\n",
    "#     ebs = np.array([0])\n",
    "\n",
    "    ebs = np.linspace(0.,0.9,Ne) #changed from 0.7 to 0.9 (07/28/22)\n",
    "    aps = ab*np.linspace(1.,5.,Na)\n",
    "    mus = np.array([0.5])\n",
    " \n",
    "#     params = [(eb,ap,mu,Np) for eb in ebs for ap in aps for mu in mus]\n",
    "    params = []\n",
    "    \n",
    "    a_array = np.zeros((Na,Ne))\n",
    "    e_array = np.zeros((Na,Ne))\n",
    "    \n",
    "#     print(a_array)\n",
    "#     print(e_array)\n",
    "    \n",
    "#     for i,e in enumerate(ebs):\n",
    "#         for j,mu in enumerate(mus):\n",
    "#             ac = HW_crit(e,mu)\n",
    "#             upper, lower = ac*1.15, ac*0.75\n",
    "#             av = np.append(np.linspace(1.,lower, Na2)[:-1],np.linspace(lower,upper,Na1))\n",
    "#             av = np.append(av, np.linspace(upper, 5.,Na2)[1:])\n",
    "# #             for a in av:\n",
    "#             for k,a in enumerate(av):\n",
    "#                 params.append((e,a,mu,Np))\n",
    "#                 a_array[k,i] = a\n",
    "#                 e_array[k,i] = e\n",
    "    \n",
    "#     print(a_array)\n",
    "#     print(e_array)\n",
    "#     print(params)            \n",
    "# #     np.save('param_vals(50,48,1,30).npy',params)\n",
    "# #     nproc = 16 # set to (total = nodes*ppn)\n",
    "#     pool = rebound.InterruptiblePool(processes = 16) #add number of processors same as number requested on Sunnyvale  \n",
    "    \n",
    "#     import time\n",
    "#     import itertools\n",
    "#     start = time.time()\n",
    "#     num = 1\n",
    "#     for _ in itertools.repeat(None,num):\n",
    "#         stime = pool.map(simL.SimulationLL,params) #survival times\n",
    "#     end = time.time()\n",
    "#     print(\"Time elapsed in minutes is {}\".format((end-start)/60.0))\n",
    "    \n",
    "#     #print(stime)\n",
    "#     #print(stime.shape)\n",
    "# #     save('stime_eb25_ap25_Mu0.5_Np30_logsp0.npy',stime)\n",
    "\n",
    "#     stime = np.array(stime).reshape([Ne,Na,Nmu,Np])\n",
    "#     stime = np.nan_to_num(stime)\n",
    "#     #stime = stime.T\n",
    "#     print(stime)\n",
    "#     print(stime.shape)\n",
    "    \n",
    "# #     save('stime_eb25_ap25_Mu0.5_Np30_logsp1.npy',stime)\n",
    "# #     save('STIME_PRACTICE_maxdist_20**2_(1,50,1,30).npy',stime)\n",
    "#     save('STIME_maxdist_20_(50,48,1,30)(mu=0.5).npy',stime)\n",
    "          "
   ]
  },
  {
   "cell_type": "code",
   "execution_count": 2,
   "metadata": {},
   "outputs": [],
   "source": [
    "stime = np.load('stime_eb25_ap25_Mu0.50_Np30_logsp1.npy')\n",
    "params = np.load('param_vals(50,48,1,30).npy')"
   ]
  },
  {
   "cell_type": "code",
   "execution_count": 3,
   "metadata": {
    "scrolled": false
   },
   "outputs": [
    {
     "ename": "IndexError",
     "evalue": "too many indices for array: array is 1-dimensional, but 2 were indexed",
     "output_type": "error",
     "traceback": [
      "\u001b[0;31m---------------------------------------------------------------------------\u001b[0m",
      "\u001b[0;31mIndexError\u001b[0m                                Traceback (most recent call last)",
      "Input \u001b[0;32mIn [3]\u001b[0m, in \u001b[0;36m<module>\u001b[0;34m\u001b[0m\n\u001b[0;32m----> 1\u001b[0m ee,aa \u001b[38;5;241m=\u001b[39m \u001b[43mnp\u001b[49m\u001b[38;5;241;43m.\u001b[39;49m\u001b[43marray\u001b[49m\u001b[43m(\u001b[49m\u001b[43mparams\u001b[49m\u001b[43m)\u001b[49m\u001b[43m[\u001b[49m\u001b[43m:\u001b[49m\u001b[43m,\u001b[49m\u001b[38;5;241;43m0\u001b[39;49m\u001b[43m]\u001b[49m,np\u001b[38;5;241m.\u001b[39marray(params)[:,\u001b[38;5;241m1\u001b[39m]\n\u001b[1;32m      2\u001b[0m \u001b[38;5;66;03m# c=np.mean(stime)\u001b[39;00m\n\u001b[1;32m      3\u001b[0m \n\u001b[1;32m      4\u001b[0m \u001b[38;5;66;03m# print(params)\u001b[39;00m\n\u001b[1;32m      5\u001b[0m \u001b[38;5;66;03m# print(len(params))\u001b[39;00m\n\u001b[1;32m      6\u001b[0m \u001b[38;5;66;03m# print(stime)\u001b[39;00m\n\u001b[1;32m      7\u001b[0m \u001b[38;5;28mprint\u001b[39m(stime\u001b[38;5;241m.\u001b[39mshape)\n",
      "\u001b[0;31mIndexError\u001b[0m: too many indices for array: array is 1-dimensional, but 2 were indexed"
     ]
    }
   ],
   "source": [
    "ee,aa = np.array(params)[:,0],np.array(params)[:,1]\n",
    "# c=np.mean(stime)\n",
    "\n",
    "# print(params)\n",
    "# print(len(params))\n",
    "# print(stime)\n",
    "print(stime.shape)\n",
    "print(ee.shape)\n",
    "# # # print(ee)\n",
    "print(aa.shape)\n",
    "# # print(aa)\n",
    "# # C = []\n",
    "# # for i in range(len(ee)):\n",
    "# #     for j in range(len(aa)):\n",
    "# #         c = np.mean(stime[i,j,:])\n",
    "# #         C.append(c)\n",
    "# # print(C)\n",
    "plt.scatter(ee,aa,c=np.mean(stime,axis=3),lw=3)\n",
    "plt.xlabel('$e_{bin}$', size = 10)\n",
    "plt.ylabel('$a/a_{bin}$', size = 10)\n",
    "plt.tight_layout()\n",
    "ab_s = np.zeros(Ne)\n",
    "for i,eb in enumerate(ebs):\n",
    "    ab_s[i] = 1.6 + 5.1*eb-2.22*(eb**2)+4.12*mu-4.27*eb*mu-5.09*(mu**2)+4.61*(eb**2)*mu**2\n",
    "   #ab_s[i] = 2.278 + 3.824*eb - 1.71*(eb**2)\n",
    "\n",
    "plt.plot(ebs,ab_s,'c', marker = \"^\",markersize = 7)\n",
    "# # plt.savefig(workdir+'/mean_stimes.png',bbox_inches=\"tight\")\n",
    "\n",
    "\n"
   ]
  },
  {
   "cell_type": "code",
   "execution_count": null,
   "metadata": {
    "scrolled": false
   },
   "outputs": [],
   "source": [
    "# from myfunctions import Plotting0\n",
    "\n",
    "# from myfunctions import PlottingLL\n",
    "# for i,eb in enumerate(ebs):\n",
    "#     for j,ap in enumerate(aps):\n",
    "#         for k,mu in enumerate(mus):\n",
    "#             print(stime[i,j,k,:])\n",
    "#             PlottingLL.PlottingLL(eb, ap, mu,stime[i,j,k,:],Np) \n",
    "            \n",
    "# for i,mu in enumerate(mus):\n",
    "#     for j in range(0,Np):      \n",
    "        \n",
    "#         Plotting0.Plotting0(ebs,aps,Na, Ne,stime[:,:,i,j].T,mu) "
   ]
  },
  {
   "cell_type": "code",
   "execution_count": null,
   "metadata": {},
   "outputs": [],
   "source": [
    "# from myfunctions import Plotting0\n",
    "\n",
    "\n",
    "# for i,mu in enumerate(mus):\n",
    "#     for j in range(0,Np):      \n",
    "        \n",
    "#         Plotting0.Plotting0(ebs,aps,Na, Ne,stime[:,:,i,j].T,mu) "
   ]
  },
  {
   "cell_type": "code",
   "execution_count": null,
   "metadata": {},
   "outputs": [],
   "source": [
    "stime[0,0,:,:]"
   ]
  },
  {
   "cell_type": "code",
   "execution_count": null,
   "metadata": {
    "scrolled": true
   },
   "outputs": [],
   "source": [
    "#     params = [(eb,ap,mu,Np) for eb in ebs for ap in aps for mu in mus]\n",
    "params = []\n",
    "\n",
    "a_array = np.zeros((Na,Ne))\n",
    "stime_a = np.zeros((Na,Ne))\n",
    "e_array = np.zeros((Na,Ne))\n",
    "\n",
    "for i,e in enumerate(ebs):\n",
    "    for j,mu in enumerate(mus):\n",
    "        ac = HW_crit(e,mu)\n",
    "        upper, lower = ac*1.15, ac*0.75\n",
    "        av = np.append(np.linspace(1.,lower, Na2)[:-1],np.linspace(lower,upper,Na1))\n",
    "        av = np.append(av, np.linspace(upper, 5.,Na2)[1:])\n",
    "#             for a in av:\n",
    "        for k,a in enumerate(av):\n",
    "            params.append((e,a,mu,Np))\n",
    "            a_array[k,i] = a\n",
    "            e_array[k,i] = e\n",
    "            stime_a[k,i] = np.mean(stime[i,k,0,:])\n",
    "\n",
    "print(a_array)\n",
    "print(e_array)\n",
    "print(params)\n",
    "print(stime_a)"
   ]
  },
  {
   "cell_type": "code",
   "execution_count": null,
   "metadata": {},
   "outputs": [],
   "source": [
    "fig,ax=plt.subplots(1,1)\n",
    "cp = ax.contourf(e_array, a_array, stime_a)\n",
    "fig.colorbar(cp) # Add a colorbar to a plot\n",
    "\n",
    "ab_s = np.zeros(Ne)\n",
    "for i,eb in enumerate(ebs):\n",
    "    ab_s[i] = 1.6 + 5.1*eb-2.22*(eb**2)+4.12*mu-4.27*eb*mu-5.09*(mu**2)+4.61*(eb**2)*mu**2\n",
    "   #ab_s[i] = 2.278 + 3.824*eb - 1.71*(eb**2)\n",
    "\n",
    "ax.plot(ebs,ab_s,'c', marker = \"^\",markersize = 7)\n",
    "ax.set_xlabel('$e_b$')\n",
    "ax.set_ylabel('$a_b(a_c$)')\n",
    "plt.title(' Critical Semi Major Axis (a$_c$) as a function of Binary Ecccentricity (e$_b$)'.format(mu))\n",
    "# plt.savefig('Mu {}: $a_c$ vs. $e_b$; (eb,ap,mu,Np) = (50,48,1,30)'.format(mu), dpi = 250)\n",
    "plt.show()"
   ]
  },
  {
   "cell_type": "code",
   "execution_count": null,
   "metadata": {},
   "outputs": [],
   "source": []
  }
 ],
 "metadata": {
  "kernelspec": {
   "display_name": "Python 3 (ipykernel)",
   "language": "python",
   "name": "python3"
  },
  "language_info": {
   "codemirror_mode": {
    "name": "ipython",
    "version": 3
   },
   "file_extension": ".py",
   "mimetype": "text/x-python",
   "name": "python",
   "nbconvert_exporter": "python",
   "pygments_lexer": "ipython3",
   "version": "3.10.2"
  }
 },
 "nbformat": 4,
 "nbformat_minor": 4
}
