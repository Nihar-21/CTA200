{
 "cells": [
  {
   "cell_type": "code",
   "execution_count": 1,
   "metadata": {
    "scrolled": false
   },
   "outputs": [
    {
     "ename": "SyntaxError",
     "evalue": "unexpected EOF while parsing (<ipython-input-1-232f6e3a09e5>, line 68)",
     "output_type": "error",
     "traceback": [
      "\u001b[0;36m  File \u001b[0;32m\"<ipython-input-1-232f6e3a09e5>\"\u001b[0;36m, line \u001b[0;32m68\u001b[0m\n\u001b[0;31m    \u001b[0m\n\u001b[0m    ^\u001b[0m\n\u001b[0;31mSyntaxError\u001b[0m\u001b[0;31m:\u001b[0m unexpected EOF while parsing\n"
     ]
    }
   ],
   "source": [
    "import numpy as np  \n",
    "import pandas as pd  \n",
    "from matplotlib import pyplot as plt    \n",
    "from myfunctions import PlottingLL   \n",
    "\n",
    "from lifelines import KaplanMeierFitter,NelsonAalenFitter  \n",
    "\n",
    "\n",
    "#****************DATA UPLOAD***************************************#\n",
    "stime = np.load('stime_eb3_ap4_Np25_log.npy')\n",
    "ebs = np.array([0.0,0.3,0.6])\n",
    "aps = np.array([2.0,2.5,3.0,3.5])\n",
    "Ne, Na, Np = 3,4,25\n",
    "\n",
    "# fig = plt.figure(figsize = (14,22))\n",
    "# a = 4\n",
    "# b = 6\n",
    "\n",
    "#t,ax = plt.subplots(3,4,figsize=(15,15))\n",
    "\n",
    "for i,eb in enumerate(ebs):\n",
    "    for j,ap in enumerate(aps):\n",
    "       \n",
    "        print(stime[i,j,:])\n",
    "        PlottingLL.PlottingLL(stime[i,j,:],eb,ap,Np)\n",
    "        kmf = KaplanMeierFitter()\n",
    "        kmf.fit(T,E)\n",
    "        kmf.survival_function_\n",
    "        kmf.survival_function_.plot(ax=axs[0])\n",
    "\n",
    "\n",
    "#***************EVENT OBSERVATION**********************************#\n",
    "\n",
    "E = np.zeros(Np).astype(int)\n",
    "for i,time in enumerate(stime):\n",
    "    if (time >= 62831):\n",
    "        E[i] = 0\n",
    "    else:\n",
    "        E[i] = 1\n",
    "\n",
    "\n",
    "#***************MAKING A DATA FRAME*********************************#\n",
    "data1 = {'T':stime, 'E':E}\n",
    "df = pd.DataFrame(data=data1)\n",
    "print(df.head())\n",
    "\n",
    "T = df['T']\n",
    "E = df['E']\n",
    "\n",
    "\n",
    "#*********************KMF FITTING************************************#\n",
    "kmf = KaplanMeierFitter()\n",
    "\n",
    "kmf.fit(T,E)\n",
    "\n",
    "fig,axs = plt.subplots(1,2)\n",
    "\n",
    "kmf.survival_function_\n",
    "kmf.plot_survival_function()\n",
    "kmf.survival_function_.plot(ax=axs[0])\n",
    "\n",
    "#***********ESTIMATING HAZARD RATE USING NELSON_AALEN***************#\n",
    "naf = NelsonAalenFitter()\n",
    "naf.fit(T,E)\n",
    "print(naf.cumulative_hazard_.head())\n",
    "#naf.plot_cumulative_hazard()\n",
    "naf.cumulative_hazard_.plot(ax=axs[1]\n",
    "    \n"
   ]
  }
 ],
 "metadata": {
  "kernelspec": {
   "display_name": "Python 3 (ipykernel)",
   "language": "python",
   "name": "python3"
  },
  "language_info": {
   "codemirror_mode": {
    "name": "ipython",
    "version": 3
   },
   "file_extension": ".py",
   "mimetype": "text/x-python",
   "name": "python",
   "nbconvert_exporter": "python",
   "pygments_lexer": "ipython3",
   "version": "3.10.2"
  }
 },
 "nbformat": 4,
 "nbformat_minor": 4
}
