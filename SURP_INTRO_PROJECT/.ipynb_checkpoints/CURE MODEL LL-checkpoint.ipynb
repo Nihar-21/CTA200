{
 "cells": [
  {
   "cell_type": "code",
   "execution_count": null,
   "id": "b90b9a0c",
   "metadata": {
    "scrolled": false
   },
   "outputs": [],
   "source": [
    "%matplotlib inline\n",
    "%config InlineBackend.figure_format = 'retina'\n",
    "\n",
    "from matplotlib import pyplot as plt\n",
    "import autograd.numpy as np\n",
    "from autograd.scipy.special import expit, logit\n",
    "import pandas as pd\n",
    "plt.style.use('bmh')\n",
    "from lifelines.fitters import ParametricRegressionFitter\n"
   ]
  },
  {
   "cell_type": "code",
   "execution_count": null,
   "id": "076be7c2",
   "metadata": {
    "scrolled": false
   },
   "outputs": [],
   "source": [
    "import numpy as np\n",
    "import matplotlib.pyplot as plt \n",
    "import lifelines\n",
    "from myfunctions import PlottingLL  \n",
    "from myfunctions import CureModelLL\n",
    "from myfunctions import SevenPlot\n",
    "\n",
    "\n",
    "stime = np.load('stime_eb25_ap25_Mu0.50_Np30_logsp1.npy')\n",
    "Ne, Na, Nm, Np = 25,25,1,30\n",
    "\n",
    "#binary semi-major axis\n",
    "ab = 1\n",
    "\n",
    "#binary eccentricity\n",
    "ebs = np.linspace(0.,0.7,Ne)\n",
    "#print(ebs)\n",
    "\n",
    "    \n",
    "#test particle semi- major axis \n",
    "aps = ab*np.linspace(1.,5.,Na)\n",
    "\n",
    "\n",
    "# for x in range(0,25,6):\n",
    "#     print(ebs[x])\n",
    "    \n",
    "for y in range(0,19,3):\n",
    "    print(aps[y])\n",
    "    \n",
    "#Binary reduced mass\n",
    "mu = 0.500\n",
    "\n",
    "\n",
    "\n",
    "# for y in range(0,19,1):\n",
    "#     stimes.append(stime[0,y,:])\n",
    "#     n = 30\n",
    "    \n",
    "#     app = [aps[y]]*n\n",
    "#     ap_s.append(app)\n",
    "    \n",
    "# stimes = list(np.concatenate(stimes).flat)\n",
    "# ap_s = list(np.concatenate(ap_s).flat)\n",
    "\n",
    "\n",
    "for y in range(0,19,3):\n",
    "    CureModelLL.CureModelLL(np.abs(ebs[0]),aps[y],mu,stime[0,y,:],Np)\n",
    "\n",
    "    \n",
    "\n",
    "    "
   ]
  },
  {
   "cell_type": "code",
   "execution_count": null,
   "id": "d12d5e06",
   "metadata": {
    "scrolled": false
   },
   "outputs": [],
   "source": [
    "from autograd.scipy.special import expit\n",
    "from lifelines.datasets import load_rossi\n",
    "\n",
    "\n",
    "\n",
    "class CureModel(ParametricRegressionFitter):\n",
    "    _scipy_fit_method = \"SLSQP\"\n",
    "    _scipy_fit_options = {\"ftol\": 1e-10, \"maxiter\": 200}\n",
    "\n",
    "    _fitted_parameter_names = [\"lambda_\", \"beta_\", \"rho_\"]\n",
    "\n",
    "    def _cumulative_hazard(self, params, T, Xs):\n",
    "#         print(type(Xs[\"beta_\"]))\n",
    "#         print((Xs[\"beta_\"]))\n",
    "#         print(type(params[\"beta_\"]))\n",
    "#         print(params[\"beta_\"])\n",
    "\n",
    "        c = expit(np.dot(Xs[\"beta_\"], params[\"beta_\"]))\n",
    "        print(c)\n",
    "\n",
    "\n",
    "#         print(Xs[\"lambda_\"])\n",
    "#         print(params[\"lambda_\"])\n",
    "        lambda_ = np.exp(np.dot(Xs[\"lambda_\"], params[\"lambda_\"]))\n",
    "#         print(lambda_)\n",
    "\n",
    "#         print(Xs[\"rho_\"])\n",
    "#         print(params[\"rho_\"])\n",
    "        rho_ = np.exp(np.dot(Xs[\"rho_\"], params[\"rho_\"]))\n",
    "#         print(rho_)\n",
    "        \n",
    "        sf = np.exp(-(T / lambda_) ** rho_)\n",
    "#         print(sf)\n",
    "#         print(-np.log((1 - c) + c * sf))\n",
    "\n",
    "        return -np.log((1 - c) + c * sf)\n",
    "\n",
    "\n",
    "cm = CureModel(penalizer=0.0)\n",
    "\n",
    "rossi = load_rossi()\n",
    "print(rossi)\n",
    "\n",
    "# print(rossi)\n",
    "# print(rossi.columns.difference(['week','arrest']))\n",
    "\n",
    "# events = rossi['arrest'].astype(bool)\n",
    "# print(rossi.loc[events, '('lambda_', 'fin')'].var())\n",
    "# print(rossi.loc[~events, '('lambda_', 'fin')'].var())\n",
    "\n",
    "\n",
    "covariates = {\"lambda_\": rossi.columns.difference(['week', 'arrest']), \"rho_\": \"1\", \"beta_\": 'fin + 1'}\n",
    "\n",
    "cm.fit(rossi, \"week\", event_col=\"arrest\", regressors=covariates, show_progress = True, timeline=np.arange(250))\n",
    "cm.print_summary(2)"
   ]
  },
  {
   "cell_type": "code",
   "execution_count": null,
   "id": "71681330",
   "metadata": {
    "scrolled": true
   },
   "outputs": [],
   "source": [
    "# # what's the effect on the survival curve if I vary \"age\"\n",
    "# fig, ax = plt.subplots(figsize=(12, 6))\n",
    "\n",
    "# cm.plot_covariate_groups(['age'], values=np.arange(20, 50, 5), cmap='coolwarm', ax=ax)"
   ]
  }
 ],
 "metadata": {
  "kernelspec": {
   "display_name": "Python 3 (ipykernel)",
   "language": "python",
   "name": "python3"
  },
  "language_info": {
   "codemirror_mode": {
    "name": "ipython",
    "version": 3
   },
   "file_extension": ".py",
   "mimetype": "text/x-python",
   "name": "python",
   "nbconvert_exporter": "python",
   "pygments_lexer": "ipython3",
   "version": "3.10.2"
  }
 },
 "nbformat": 4,
 "nbformat_minor": 5
}
