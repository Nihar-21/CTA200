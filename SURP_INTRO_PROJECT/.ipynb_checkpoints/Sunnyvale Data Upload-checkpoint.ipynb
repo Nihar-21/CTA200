{
 "cells": [
  {
   "cell_type": "code",
   "execution_count": null,
   "metadata": {},
   "outputs": [],
   "source": [
    "import numpy as np\n",
    "import rebound\n",
    "import random\n",
    "\n",
    "\n",
    "stime = np.load('stime1.npy')\n",
    "stime = np.array(stime).reshape(N,N)\n",
    "stime = np.nan_to_num(stime)\n",
    "stime = stime.T # transpose of data \n",
    "\n",
    "%matplotlib inline\n",
    "import matplotlib.pyplot as plt\n",
    "from matplotlib import ticker\n",
    "from matplotlib.colors import LogNorm\n",
    "import matplotlib\n",
    "\n",
    "t,ax = plt.subplots(1,1,figsize=(7,5))\n",
    "extent=[ebs.min(), ebs.max(), aps.min(), aps.max()]\n",
    "\n",
    "ax.set_xlim(extent[0], extent[1])\n",
    "ax.set_ylim(extent[2], extent[3])\n",
    "ax.set_xlabel(\"Binary Eccentricity $e_b$ \")\n",
    "ax.set_ylabel(\"Test particle semimajor axis $a_p$\")\n",
    "im = ax.imshow(stime, aspect='auto', origin=\"lower\", interpolation='nearest', cmap=\"viridis\",extent=extent)\n",
    "\n",
    "\n",
    "# ebs = np.linspace(0.,0.7,N)\n",
    "# ab_s = np.zeros(N)\n",
    "# for i,eb in enumerate(ebs):\n",
    "#     ab_s[i] = 2.278 + 3.824*eb - 1.71*(eb**2)\n",
    "   \n",
    "# plt.plot(ebs,ab_s,'c', marker = \"^\",markersize = 7)\n",
    "# plt.xlabel('$e_b$')\n",
    "# plt.ylabel('$a_b(a_c$)')\n",
    "# plt.title('Critical semimajor axis $a_c$ as a function of eccentricity $e_b$')\n",
    "\n",
    "\n",
    "cb = plt.colorbar(im, ax=ax)\n",
    "cb.solids.set_rasterized(True)\n",
    "cb.set_label(\"Particle Survival Times\")\n",
    "plt.show()\n",
    "\n",
    "plt.savefig(\"Classic_results.pdf\")\n"
   ]
  }
 ],
 "metadata": {
  "kernelspec": {
   "display_name": "Python 3",
   "language": "python",
   "name": "python3"
  },
  "language_info": {
   "codemirror_mode": {
    "name": "ipython",
    "version": 3
   },
   "file_extension": ".py",
   "mimetype": "text/x-python",
   "name": "python",
   "nbconvert_exporter": "python",
   "pygments_lexer": "ipython3",
   "version": "3.7.0"
  }
 },
 "nbformat": 4,
 "nbformat_minor": 2
}
