{
 "cells": [
  {
   "cell_type": "code",
   "execution_count": 1,
   "metadata": {},
   "outputs": [
    {
     "name": "stdout",
     "output_type": "stream",
     "text": [
      "Number of snapshots: 1\n",
      "Time of first and lastsnap shots are: 0.0, 0.0\n",
      "Screenshot Number : 0, taken at 0.0\n"
     ]
    },
    {
     "ename": "TypeError",
     "evalue": "'Particles' object cannot be interpreted as an integer",
     "output_type": "error",
     "traceback": [
      "\u001b[0;31m---------------------------------------------------------------------------\u001b[0m",
      "\u001b[0;31mTypeError\u001b[0m                                 Traceback (most recent call last)",
      "\u001b[0;32m<ipython-input-1-c9a0f2ddc8b9>\u001b[0m in \u001b[0;36m<module>\u001b[0;34m()\u001b[0m\n\u001b[1;32m     17\u001b[0m         \u001b[0msim\u001b[0m \u001b[0;34m=\u001b[0m \u001b[0msa\u001b[0m\u001b[0;34m[\u001b[0m\u001b[0mi\u001b[0m\u001b[0;34m]\u001b[0m\u001b[0;34m\u001b[0m\u001b[0m\n\u001b[1;32m     18\u001b[0m         \u001b[0mprint\u001b[0m \u001b[0;34m(\u001b[0m\u001b[0;34m\"Screenshot Number : {}, taken at {}\"\u001b[0m\u001b[0;34m.\u001b[0m\u001b[0mformat\u001b[0m\u001b[0;34m(\u001b[0m\u001b[0mi\u001b[0m\u001b[0;34m,\u001b[0m\u001b[0msim\u001b[0m\u001b[0;34m.\u001b[0m\u001b[0mt\u001b[0m\u001b[0;34m)\u001b[0m\u001b[0;34m)\u001b[0m\u001b[0;34m\u001b[0m\u001b[0m\n\u001b[0;32m---> 19\u001b[0;31m         \u001b[0;32mfor\u001b[0m \u001b[0mj\u001b[0m \u001b[0;32min\u001b[0m \u001b[0;34m(\u001b[0m\u001b[0mrange\u001b[0m\u001b[0;34m(\u001b[0m\u001b[0;36m2\u001b[0m\u001b[0;34m,\u001b[0m\u001b[0msim\u001b[0m\u001b[0;34m.\u001b[0m\u001b[0mparticles\u001b[0m\u001b[0;34m)\u001b[0m\u001b[0;34m)\u001b[0m\u001b[0;34m:\u001b[0m\u001b[0;34m\u001b[0m\u001b[0m\n\u001b[0m\u001b[1;32m     20\u001b[0m             \u001b[0mprint\u001b[0m\u001b[0;34m(\u001b[0m\u001b[0;34m\"Particle {} eccentricity : {} \"\u001b[0m\u001b[0;34m.\u001b[0m\u001b[0mformat\u001b[0m\u001b[0;34m(\u001b[0m\u001b[0mj\u001b[0m\u001b[0;34m,\u001b[0m \u001b[0msim\u001b[0m\u001b[0;34m.\u001b[0m\u001b[0mparticles\u001b[0m\u001b[0;34m[\u001b[0m\u001b[0mj\u001b[0m\u001b[0;34m]\u001b[0m\u001b[0;34m.\u001b[0m\u001b[0me\u001b[0m\u001b[0;34m)\u001b[0m\u001b[0;34m)\u001b[0m\u001b[0;34m\u001b[0m\u001b[0m\n\u001b[1;32m     21\u001b[0m     \u001b[0;31m#sim = sa[1]\u001b[0m\u001b[0;34m\u001b[0m\u001b[0;34m\u001b[0m\u001b[0m\n",
      "\u001b[0;31mTypeError\u001b[0m: 'Particles' object cannot be interpreted as an integer"
     ]
    }
   ],
   "source": [
    "import rebound\n",
    "import numpy as np\n",
    "\n",
    "Ne, Na, Np = 2,2,10 #Np = number of test particles per (eb,ap)tuple \n",
    "ab = 1\n",
    "ebs = np.linspace(0.,0.7,Ne)\n",
    "aps = ab*np.linspace(1.,5.,Na)\n",
    "\n",
    "params = [(eb,ap,Np) for eb in ebs for ap in aps]\n",
    "\n",
    "# CHECKING SIMULATION ARCHIVE RETREIVAL\n",
    "for l,param in enumerate(params):\n",
    "    print(param)\n",
    "    sa = rebound.SimulationArchive(\"archive_eb{:.3f}_ap{:.3f}_Np{:.2f}.bin\".format(param[0],param[1],param[2])) \n",
    "    print(\"Number of snapshots: %d\" % len(sa))\n",
    "    print(\"Time of first and lastsnap shots are: %.1f, %.1f\" % (sa.tmin, sa.tmax))\n",
    "    #sim = sa[l]\n",
    "    for i, ss in enumerate(sa):\n",
    "        #sim = sa[i]\n",
    "        print (\"Screenshot Number : {}, taken at {}\".format(i,ss.t))\n",
    "        for j in (range(2,ss.N)):\n",
    "            print(\"Particle {} eccentricity : {} \".format(j, ss.particles[j].e))\n",
    "    #sim = sa[1]\n",
    "    #print(sim.t, sim.particles[2])"
   ]
  }
 ],
 "metadata": {
  "kernelspec": {
   "display_name": "Python 3",
   "language": "python",
   "name": "python3"
  },
  "language_info": {
   "codemirror_mode": {
    "name": "ipython",
    "version": 3
   },
   "file_extension": ".py",
   "mimetype": "text/x-python",
   "name": "python",
   "nbconvert_exporter": "python",
   "pygments_lexer": "ipython3",
   "version": "3.7.0"
  }
 },
 "nbformat": 4,
 "nbformat_minor": 2
}
