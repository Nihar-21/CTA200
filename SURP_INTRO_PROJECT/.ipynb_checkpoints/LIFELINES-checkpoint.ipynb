{
 "cells": [
  {
   "cell_type": "code",
   "execution_count": null,
   "metadata": {
    "scrolled": false
   },
   "outputs": [],
   "source": [
    "import numpy as np\n",
    "from numpy import save\n",
    "import rebound\n",
    "import random\n",
    "from multiprocessing import Pool\n",
    "from myfunctions import SimulationLL as simL\n",
    "#from myfunctions import Plotting0\n",
    "#from myfunctions import PlottingLL\n",
    "\n",
    "\n",
    "\n",
    "if __name__ == \"__main__\":\n",
    "    random.seed(1)\n",
    "    \n",
    "    Ne, Na,Nmu,Np = 25,25,1,30 #Np = number of test particles per (eb,ap)tuple \n",
    "    ab = 1\n",
    "    ebs = np.linspace(0.,0.7,Ne)\n",
    "    aps = ab*np.linspace(1.,5.,Na)\n",
    "    mus = np.array([0.5])\n",
    "\n",
    "\n",
    " \n",
    "    params = [(eb,ap,mu,Np) for eb in ebs for ap in aps for mu in mus]\n",
    "\n",
    "    pool = rebound.InterruptiblePool(processes = 16) #add number of processors same as number requested on Sunnyvale  \n",
    "    \n",
    "    import time\n",
    "    import itertools\n",
    "    start = time.time()\n",
    "    num = 1\n",
    "    for _ in itertools.repeat(None,num):\n",
    "        stime = pool.map(simL.SimulationLL,params) #survival times\n",
    "    end = time.time()\n",
    "    print(\"Time elapsed in minutes is {}\".format((end-start)/60.0))\n",
    "    \n",
    "    #print(stime)\n",
    "    #print(stime.shape)\n",
    "    save('stime_eb25_ap25_Mu0.5_Np30_logsp0.npy',stime)\n",
    "\n",
    "    stime = np.array(stime).reshape([Ne,Na,Nmu,Np])\n",
    "    stime = np.nan_to_num(stime)\n",
    "    #stime = stime.T\n",
    "    print(stime)\n",
    "    print(stime.shape)\n",
    "    \n",
    "    save('stime_eb25_ap25_Mu0.5_Np30_logsp1.npy',stime)\n",
    "    \n",
    "#     for i,eb in enumerate(ebs):\n",
    "#         for j,ap in enumerate(aps):\n",
    "#             for k,mu in enumerate(mus):\n",
    "#                 PlottingLL.PlottingLL(stime[i,j,k,:],eb,ap,mu,Np) \n",
    "            \n",
    "#     for i,mu in enumerate(mus):\n",
    "#         for j in range(0,Np):      \n",
    "#             Plotting0.Plotting0(ebs,aps,Na,stime[:,:,i,j].T,mu) \n",
    "            \n",
    "            \n",
    "            \n",
    "            \n",
    "            \n",
    "        \n"
   ]
  }
 ],
 "metadata": {
  "kernelspec": {
   "display_name": "Python 3",
   "language": "python",
   "name": "python3"
  },
  "language_info": {
   "codemirror_mode": {
    "name": "ipython",
    "version": 3
   },
   "file_extension": ".py",
   "mimetype": "text/x-python",
   "name": "python",
   "nbconvert_exporter": "python",
   "pygments_lexer": "ipython3",
   "version": "3.7.0"
  }
 },
 "nbformat": 4,
 "nbformat_minor": 4
}
